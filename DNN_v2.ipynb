{
 "cells": [
  {
   "cell_type": "markdown",
   "metadata": {},
   "source": [
    "# Deep Neural Networks Laboration\n",
    "\n",
    "Data used in this laboration are from the Kitsune Network Attack Dataset, https://archive.ics.uci.edu/ml/datasets/Kitsune+Network+Attack+Dataset . We will focus on the 'Mirai' part of the dataset. Your task is to make a DNN that can classify if each attack is benign or malicious. The dataset has 116 covariates, but to make it a bit more difficult we will remove the first 24 covariates.\n",
    "\n",
    "You need to answer all questions in this notebook."
   ]
  },
  {
   "cell_type": "markdown",
   "metadata": {},
   "source": [
    "# Part 1: Get the data\n",
    "\n",
    "Use `wget` in the terminal of your cloud machine (in the same directory as where you have saved this notebook) to download the data, i.e.\n",
    "\n",
    "wget https://archive.ics.uci.edu/ml/machine-learning-databases/00516/mirai/Mirai_dataset.csv.gz\n",
    "\n",
    "wget https://archive.ics.uci.edu/ml/machine-learning-databases/00516/mirai/Mirai_labels.csv.gz\n",
    "\n",
    "Then unpack the files using `gunzip` in the terminal, i.e.\n",
    "\n",
    "gunzip Mirai_dataset.csv.gz\n",
    "\n",
    "gunzip Mirai_labels.csv.gz"
   ]
  },
  {
   "cell_type": "markdown",
   "metadata": {},
   "source": [
    "# Part 2: Get a graphics card\n",
    "\n",
    "Lets make sure that our script can see the graphics card that will be used. The graphics cards will perform all the time consuming calculations in every training iteration."
   ]
  },
  {
   "cell_type": "code",
   "execution_count": 1,
   "metadata": {},
   "outputs": [
    {
     "name": "stderr",
     "output_type": "stream",
     "text": [
      "Using TensorFlow backend.\n"
     ]
    }
   ],
   "source": [
    "import os\n",
    "import warnings\n",
    "\n",
    "# Ignore FutureWarning from numpy\n",
    "warnings.simplefilter(action='ignore', category=FutureWarning)\n",
    "\n",
    "import keras.backend as K\n",
    "import tensorflow as tf\n",
    "\n",
    "os.environ[\"CUDA_DEVICE_ORDER\"]=\"PCI_BUS_ID\";\n",
    " \n",
    "# The GPU id to use, usually either \"0\" or \"1\";\n",
    "os.environ[\"CUDA_VISIBLE_DEVICES\"]=\"0\";\n",
    "\n",
    "# Allow growth of GPU memory, otherwise it will always look like all the memory is being used\n",
    "physical_devices = tf.config.experimental.list_physical_devices('GPU')\n",
    "tf.config.experimental.set_memory_growth(physical_devices[0], True) "
   ]
  },
  {
   "cell_type": "markdown",
   "metadata": {},
   "source": [
    "# Part 3: Hardware\n",
    "\n",
    "In deep learning, the computer hardware is very important. You should always know what kind of hardware you are working on.\n",
    "\n",
    "Question 1: What graphics card is available in the cloud machine? Run 'nvidia-smi' in the terminal. \n",
    "\n",
    "Question 2: Google the name of the graphics card, how many CUDA cores does it have?\n",
    "\n",
    "Question 3: How much memory does the graphics card have?\n",
    "\n",
    "Question 4: What is stored in the GPU memory while training a DNN ?\n",
    "\n",
    "Question 5: What CPU is available in the cloud machine? How many cores does it have? Run 'lscpu' in the terminal.\n",
    "\n",
    "Question 6: How much CPU memory (RAM) is available in the cloud machine? Run 'free -g' in the terminal."
   ]
  },
  {
   "cell_type": "code",
   "execution_count": 2,
   "metadata": {},
   "outputs": [],
   "source": [
    "# Answer 1. Tesla K80\n",
    "\n",
    "# Answer 2. 4,992 CUDA cores \n",
    "\n",
    "# Answer 3. According to google the memory on the graphics card is 24 GB\n",
    "# GDDR5 but on the terminal the memory available to us is 11441 MB (approx 12 GB)\n",
    "\n",
    "# Answer 4. Training data, weights of the network, outputs/filter responses for each layer\n",
    "# and gradients of all parameters are stored in GPU memory when training a DNN. This might \n",
    "# be done in batches when all this data cannot be stored together in the GPU.\n",
    "\n",
    "# Answer 5. The CPU available on the cloud machine is Intel(R) Xeon(R) CPU E5-2690 v3. Each \n",
    "# CPU has 6 cores.\n",
    "\n",
    "# Answer 6. Theres a total of 55 GB RAM on the cloud machine out of which 53 GB is available."
   ]
  },
  {
   "cell_type": "markdown",
   "metadata": {},
   "source": [
    "# Part 4: Load the data\n",
    "\n",
    "Load the dataset from the csv files, it will take some time since it is almost 1.4 GB. \n",
    "\n",
    "We will use the function `genfromtxt` to load the data.\n",
    "\n",
    "https://docs.scipy.org/doc/numpy/reference/generated/numpy.genfromtxt.html\n",
    "\n",
    "Load the data from csv files the first time, then save the data as numpy files for faster loading the next time.\n",
    "\n",
    "\n"
   ]
  },
  {
   "cell_type": "code",
   "execution_count": 3,
   "metadata": {},
   "outputs": [
    {
     "name": "stdout",
     "output_type": "stream",
     "text": [
      "The covariates have size (764137, 92).\n",
      "The labels have size (764137,).\n",
      "Class 0.0  has count  121621 and class 1.0  has count 642516\n"
     ]
    }
   ],
   "source": [
    "from numpy import genfromtxt\n",
    "import numpy as np\n",
    "\n",
    "X = genfromtxt('Mirai_dataset.csv', delimiter=',')\n",
    "Y = genfromtxt('Mirai_labels.csv', delimiter=',')\n",
    "# Load data from file\n",
    "# X = covariates, Y = labels\n",
    "\n",
    "\n",
    "\n",
    "# Save data as numpy arrays, for faster loading in future calls to this cell\n",
    "np.save('Mirai_data.npy', X)\n",
    "np.save('Mirai_labels.npy', Y)\n",
    "\n",
    "# Load data from numpy arrays, for faster loading\n",
    "X = np.load('Mirai_data.npy')\n",
    "Y = np.load('Mirai_labels.npy')\n",
    "\n",
    "\n",
    "\n",
    "# Remove the first 24 covariates\n",
    "X = np.delete(X,range(24),axis=1)\n",
    "\n",
    "print('The covariates have size {}.'.format(X.shape))\n",
    "print('The labels have size {}.'.format(Y.shape))\n",
    "\n",
    "\n",
    "\n",
    "# Print the number of examples of each class\n",
    "a,b = np.unique(Y, return_counts=True)\n",
    "print(\"Class\", a[0],\" has count \", b[0], 'and class', a[1], ' has count', b[1])"
   ]
  },
  {
   "cell_type": "markdown",
   "metadata": {},
   "source": [
    "# Part 5: How good is a naive classifier?\n",
    "\n",
    "Question 7: Given the distribution of examples, how high classification performance can a naive classifier obtain? The naive classifier will assume that all examples belong to one class. Note: you do not need to make a naive classifier, this is a theoretical question, just to understand how good performance we can obtain by random chance."
   ]
  },
  {
   "cell_type": "code",
   "execution_count": 4,
   "metadata": {},
   "outputs": [
    {
     "name": "stdout",
     "output_type": "stream",
     "text": [
      "Number of NaNs in the labels is 0\n",
      "Number of NaNs in covariates is 0\n"
     ]
    }
   ],
   "source": [
    "# It is common to have NaNs in the data, lets check for it. Hint: np.isnan()\n",
    "#sum(np.isnan(X))\n",
    "a = np.count_nonzero(np.isnan(Y))\n",
    "# Print the number of NaNs (not a number) in the labels\n",
    "print('Number of NaNs in the labels is',a)\n",
    "\n",
    "b = np.count_nonzero(np.isnan(X))\n",
    "# Print the number of NaNs in the covariates\n",
    "print('Number of NaNs in covariates is',b)"
   ]
  },
  {
   "cell_type": "markdown",
   "metadata": {},
   "source": [
    "# Part 6: Preprocessing\n",
    "\n",
    "Lets do some simple preprocessing"
   ]
  },
  {
   "cell_type": "code",
   "execution_count": 5,
   "metadata": {},
   "outputs": [
    {
     "name": "stdout",
     "output_type": "stream",
     "text": [
      "Mean of covariates is -2.565209060450084e-17 and standard deviation is 0.9999999999999979\n"
     ]
    }
   ],
   "source": [
    "# Convert covariates to floats\n",
    "X = X.astype(float)\n",
    "\n",
    "# Convert labels to ints\n",
    "Y = Y.astype(int)\n",
    "\n",
    "# Remove mean of each covariate (column)\n",
    "for i in range(X.shape[1]):\n",
    "    X[:,i] = X[:,i] - np.mean(X[:,i])\n",
    "    X[:,i] = X[:,i] / np.std(X[:,i])\n",
    "\n",
    "# Divide each covariate (column) by its standard deviation\n",
    "\n",
    "\n",
    "# Check that mean is 0 and standard deviation is 1 for all covariates, by printing mean and std\n",
    "print('Mean of covariates is',np.mean(X), 'and standard deviation is', np.std(X))"
   ]
  },
  {
   "cell_type": "markdown",
   "metadata": {},
   "source": [
    "# Part 7: Split the dataset\n",
    "\n",
    "Use the first 70% of the dataset for training, leave the other 30% for validation and test, call the variables\n",
    "\n",
    "Xtrain (70%)\n",
    "\n",
    "Xtemp  (30%)\n",
    "\n",
    "Ytrain (70%)\n",
    "\n",
    "Ytemp  (30%)\n"
   ]
  },
  {
   "cell_type": "code",
   "execution_count": 6,
   "metadata": {},
   "outputs": [
    {
     "name": "stdout",
     "output_type": "stream",
     "text": [
      "Xtrain has size (534896, 92).\n",
      "Ytrain has size (534896,).\n",
      "Xtemp has size (229241, 92).\n",
      "Ytemp has size (229241,).\n",
      "For Ytrain, Class 0  has count  121621 and class 1  has count 413275\n",
      "For Ytemp, only Class 1  has count  229241\n"
     ]
    }
   ],
   "source": [
    "# Your code\n",
    "Xtrain = X[:534896]\n",
    "Xtemp = X[534896:]\n",
    "Ytrain = Y[:534896]\n",
    "Ytemp = Y[534896:]\n",
    "\n",
    "print('Xtrain has size {}.'.format(Xtrain.shape))\n",
    "print('Ytrain has size {}.'.format(Ytrain.shape))\n",
    "\n",
    "print('Xtemp has size {}.'.format(Xtemp.shape))\n",
    "print('Ytemp has size {}.'.format(Ytemp.shape))\n",
    "\n",
    "# Print the number of examples of each class, for the training data and the remaining 30%\n",
    "a,b = np.unique(Ytrain, return_counts=True)\n",
    "print(\"For Ytrain, Class\", a[0],\" has count \", b[0], 'and class', a[1], ' has count', b[1])\n",
    "\n",
    "c,d = np.unique(Ytemp, return_counts=True)\n",
    "print(\"For Ytemp, only Class\", c[0],\" has count \", d[0])"
   ]
  },
  {
   "cell_type": "code",
   "execution_count": 55,
   "metadata": {},
   "outputs": [
    {
     "data": {
      "text/plain": [
       "534896"
      ]
     },
     "execution_count": 55,
     "metadata": {},
     "output_type": "execute_result"
    }
   ],
   "source": [
    "#70*len(Y)/100\n",
    "len(Xtrain)"
   ]
  },
  {
   "cell_type": "markdown",
   "metadata": {},
   "source": [
    "# Part 8: Number of examples per class\n",
    "\n",
    "Question 8: Can we use the dataset as it is? Why not?\n",
    "\n",
    "Lets randomly shuffle the data, to get some examples of each class in training data and in the remaining 30%. Use the function `shuffle` in scikit learn\n",
    "\n",
    "https://scikit-learn.org/stable/modules/generated/sklearn.utils.shuffle.html"
   ]
  },
  {
   "cell_type": "code",
   "execution_count": 17,
   "metadata": {},
   "outputs": [
    {
     "name": "stdout",
     "output_type": "stream",
     "text": [
      "For Ytrain, Class 0  has count  85121 and class 1  has count 449775\n",
      "For Ytemp, Class 0  has count  36500 and class 1  has count 192741\n"
     ]
    }
   ],
   "source": [
    "from sklearn.utils import shuffle\n",
    "\n",
    "# Randomly shuffle data, to get both classes in training and testing\n",
    "id = shuffle(range(764137))\n",
    "X_shuffle = X[id]\n",
    "Y_shuffle = Y[id]\n",
    "# Divide the data into training and validation/test again\n",
    "Xtrain = X_shuffle[:534896,:]\n",
    "Xtemp = X_shuffle[534896:,:]\n",
    "Ytrain = Y_shuffle[:534896]\n",
    "Ytemp = Y_shuffle[534896:]\n",
    "\n",
    "\n",
    "# Print the number of examples of each class, for the training data and the remaining 30%\n",
    "\n",
    "a,b = np.unique(Ytrain, return_counts=True)\n",
    "print(\"For Ytrain, Class\", a[0],\" has count \", b[0], 'and class', a[1], ' has count', b[1])\n",
    "\n",
    "c,d = np.unique(Ytemp, return_counts=True)\n",
    "print(\"For Ytemp, Class\", c[0],\" has count \", d[0], 'and class', c[1], ' has count', d[1])\n"
   ]
  },
  {
   "cell_type": "markdown",
   "metadata": {},
   "source": [
    "#  Part 9: Split non-training data data into validation and test\n",
    "Split your non-training data (Xtemp, Ytemp) into 50% validation (Xval, Yval) and 50% testing (Xtest, Ytest), we use a function from scikit learn. \n",
    "\n",
    "https://scikit-learn.org/stable/modules/generated/sklearn.model_selection.train_test_split.html\n"
   ]
  },
  {
   "cell_type": "code",
   "execution_count": 8,
   "metadata": {},
   "outputs": [
    {
     "name": "stdout",
     "output_type": "stream",
     "text": [
      "The validation and test data have size (114620, 92), (114621, 92), (114620,) and (114621,)\n"
     ]
    }
   ],
   "source": [
    "from sklearn.model_selection import train_test_split\n",
    "\n",
    "Xval, Xtest, Yval, Ytest = train_test_split(Xtemp, Ytemp, test_size=0.5)\n",
    "\n",
    "\n",
    "print('The validation and test data have size {}, {}, {} and {}'.format(Xval.shape, Xtest.shape, Yval.shape, Ytest.shape))"
   ]
  },
  {
   "cell_type": "markdown",
   "metadata": {},
   "source": [
    "# Part 10: DNN classification\n",
    "\n",
    "Finish this code to create a first version of the classifier using a DNN. Start with a simple network with 2 dense layers (with 20 nodes each), using sigmoid activation functions. The final dense layer should have a single node and a sigmoid activation function. We start with the SGD optimizer.\n",
    "\n",
    "Relevant functions are\n",
    "\n",
    "`model.add()`, adds a layer to the network\n",
    "\n",
    "`Dense()`, a dense network layer\n",
    "\n",
    "`model.compile()`, compile the model, add \" metrics=['accuracy'] \" to print the classification accuracy during the training\n",
    "\n",
    "`model.fit()`, train the model with some training data\n",
    "\n",
    "`model.evaluate()`, apply the trained model to some test data\n",
    "\n",
    "See https://keras.io/layers/core/ for information on how the `Dense()` function works\n",
    "\n",
    "Import a relevant cost / loss function for binary classification from keras.losses (https://keras.io/losses/)\n",
    "\n",
    "See https://keras.io/models/model/ for how to compile, train and evaluate the model"
   ]
  },
  {
   "cell_type": "code",
   "execution_count": 89,
   "metadata": {},
   "outputs": [],
   "source": [
    "from keras.models import Sequential, Model\n",
    "from keras.layers import Input, Dense, Activation, Dropout\n",
    "from keras.optimizers import SGD, Adam\n",
    "from keras.losses import binary_crossentropy\n",
    "from keras.layers.normalization import BatchNormalization\n",
    "\n",
    "# Set seed from random number generator, for better comparisons\n",
    "from numpy.random import seed\n",
    "seed(123)\n",
    "\n",
    "def build_DNN(input_shape, n_layers, n_nodes, act_fun='sigmoid', optimizer='sgd', learning_rate=0.01, \n",
    "              use_bn=False, use_dropout=False, use_custom_dropout=False):\n",
    "    \n",
    "    # Setup optimizer, depending on input parameter string\n",
    "    if optimizer == 'sgd':\n",
    "        optim_setup = SGD(lr=learning_rate)\n",
    "    if optimizer == 'adam':\n",
    "        optim_setup = Adam(lr=learning_rate)\n",
    "\n",
    "    # Setup a sequential model\n",
    "    model = Sequential()\n",
    "\n",
    "    # Add layers to the model, using the input parameters of the build_DNN function\n",
    "    # Add first layer, requires input shape\n",
    "    model.add(Dense(n_nodes, activation=act_fun, input_shape=input_shape))\n",
    "    \n",
    "    if use_bn == True:\n",
    "        model.add(BatchNormalization())\n",
    "    if use_dropout == True:\n",
    "        model.add(Dropout(0.5))\n",
    "    if use_custom_dropout == True:\n",
    "        model.add(myDropout(rate = 0.5, seed = 123))\n",
    "\n",
    "    # Add remaining layers, do not require input shape\n",
    "    for i in range(n_layers-1):\n",
    "        model.add(Dense(n_nodes, activation=act_fun))\n",
    "        if use_bn == True:\n",
    "            model.add(BatchNormalization())\n",
    "        if use_dropout == True:\n",
    "            model.add(Dropout(0.5))\n",
    "        if use_custom_dropout == True:\n",
    "            model.add(myDropout(rate = 0.5, seed = 123))\n",
    "    \n",
    "    # Final layer\n",
    "    if act_fun == 'relu':\n",
    "        model.add(Dense(1, activation='sigmoid'))\n",
    "    else:\n",
    "        model.add(Dense(1, activation=act_fun))\n",
    "    \n",
    "    \n",
    "    # Compile model\n",
    "    model.compile(loss='binary_crossentropy', optimizer=optim_setup, metrics=['accuracy'])\n",
    "    \n",
    "    return model\n"
   ]
  },
  {
   "cell_type": "code",
   "execution_count": 48,
   "metadata": {},
   "outputs": [],
   "source": [
    "# Lets define a help function for plotting the training results\n",
    "\n",
    "# IMPORTANT NOTE\n",
    "# The history unfortunately behaves a bit randomly for every user\n",
    "# If the plots for accuracy and loss look mixed, change the order of\n",
    "# val_loss, val_acc, loss, acc\n",
    "# until the plots look as they \"should\"\n",
    "\n",
    "import matplotlib.pyplot as plt\n",
    "def plot_results(history):\n",
    "    val_loss, val_acc, loss, acc = history.history.values()\n",
    "\n",
    "    plt.figure(figsize=(10,4))\n",
    "    plt.xlabel('Epochs')\n",
    "    plt.ylabel('Loss')\n",
    "    plt.plot(val_loss)\n",
    "    plt.plot(val_acc)\n",
    "  \n",
    "    plt.legend(['Training','Validation'])\n",
    "\n",
    "    plt.figure(figsize=(10,4))\n",
    "    plt.xlabel('Epochs')\n",
    "    plt.ylabel('Accuracy')\n",
    "    plt.plot(loss)\n",
    "    plt.plot(acc)\n",
    "    plt.legend(['Training','Validation'])\n",
    "\n",
    "    plt.show()"
   ]
  },
  {
   "cell_type": "markdown",
   "metadata": {},
   "source": [
    "# Part 11: Train the DNN\n",
    "\n",
    "Time to train the DNN, we start simple with 2 layers with 2 nodes each, learning rate 0.1."
   ]
  },
  {
   "cell_type": "markdown",
   "metadata": {},
   "source": [
    "### 2 layers, 20 nodes"
   ]
  },
  {
   "cell_type": "code",
   "execution_count": 43,
   "metadata": {
    "scrolled": true
   },
   "outputs": [
    {
     "name": "stdout",
     "output_type": "stream",
     "text": [
      "Train on 534896 samples, validate on 114620 samples\n",
      "Epoch 1/20\n",
      "534896/534896 [==============================] - 1s 1us/step - loss: 0.4188 - accuracy: 0.8409 - val_loss: 0.3858 - val_accuracy: 0.8420\n",
      "Epoch 2/20\n",
      "534896/534896 [==============================] - 1s 1us/step - loss: 0.3625 - accuracy: 0.8409 - val_loss: 0.3334 - val_accuracy: 0.8420\n",
      "Epoch 3/20\n",
      "534896/534896 [==============================] - 1s 1us/step - loss: 0.3080 - accuracy: 0.8409 - val_loss: 0.2801 - val_accuracy: 0.8420\n",
      "Epoch 4/20\n",
      "534896/534896 [==============================] - 1s 1us/step - loss: 0.2602 - accuracy: 0.8424 - val_loss: 0.2405 - val_accuracy: 0.8523\n",
      "Epoch 5/20\n",
      "534896/534896 [==============================] - 1s 1us/step - loss: 0.2286 - accuracy: 0.8619 - val_loss: 0.2171 - val_accuracy: 0.8794\n",
      "Epoch 6/20\n",
      "534896/534896 [==============================] - 1s 1us/step - loss: 0.2107 - accuracy: 0.8899 - val_loss: 0.2041 - val_accuracy: 0.9029\n",
      "Epoch 7/20\n",
      "534896/534896 [==============================] - 1s 1us/step - loss: 0.2004 - accuracy: 0.9040 - val_loss: 0.1963 - val_accuracy: 0.9042\n",
      "Epoch 8/20\n",
      "534896/534896 [==============================] - 1s 1us/step - loss: 0.1941 - accuracy: 0.9044 - val_loss: 0.1911 - val_accuracy: 0.9050\n",
      "Epoch 9/20\n",
      "534896/534896 [==============================] - 1s 1us/step - loss: 0.1897 - accuracy: 0.9050 - val_loss: 0.1874 - val_accuracy: 0.9055\n",
      "Epoch 10/20\n",
      "534896/534896 [==============================] - 1s 1us/step - loss: 0.1864 - accuracy: 0.9057 - val_loss: 0.1845 - val_accuracy: 0.9063\n",
      "Epoch 11/20\n",
      "534896/534896 [==============================] - 1s 1us/step - loss: 0.1838 - accuracy: 0.9064 - val_loss: 0.1822 - val_accuracy: 0.9070\n",
      "Epoch 12/20\n",
      "534896/534896 [==============================] - 1s 1us/step - loss: 0.1817 - accuracy: 0.9068 - val_loss: 0.1802 - val_accuracy: 0.9073\n",
      "Epoch 13/20\n",
      "534896/534896 [==============================] - 1s 1us/step - loss: 0.1799 - accuracy: 0.9072 - val_loss: 0.1785 - val_accuracy: 0.9078\n",
      "Epoch 14/20\n",
      "534896/534896 [==============================] - 1s 1us/step - loss: 0.1783 - accuracy: 0.9075 - val_loss: 0.1771 - val_accuracy: 0.9081\n",
      "Epoch 15/20\n",
      "534896/534896 [==============================] - 1s 1us/step - loss: 0.1769 - accuracy: 0.9079 - val_loss: 0.1758 - val_accuracy: 0.9083\n",
      "Epoch 16/20\n",
      "534896/534896 [==============================] - 1s 1us/step - loss: 0.1757 - accuracy: 0.9081 - val_loss: 0.1746 - val_accuracy: 0.9086\n",
      "Epoch 17/20\n",
      "534896/534896 [==============================] - 1s 1us/step - loss: 0.1746 - accuracy: 0.9084 - val_loss: 0.1736 - val_accuracy: 0.9088\n",
      "Epoch 18/20\n",
      "534896/534896 [==============================] - 1s 1us/step - loss: 0.1736 - accuracy: 0.9088 - val_loss: 0.1726 - val_accuracy: 0.9091\n",
      "Epoch 19/20\n",
      "534896/534896 [==============================] - 1s 1us/step - loss: 0.1727 - accuracy: 0.9090 - val_loss: 0.1718 - val_accuracy: 0.9094\n",
      "Epoch 20/20\n",
      "534896/534896 [==============================] - 1s 1us/step - loss: 0.1719 - accuracy: 0.9092 - val_loss: 0.1710 - val_accuracy: 0.9095\n"
     ]
    }
   ],
   "source": [
    "# Setup some training parameters\n",
    "batch_size = 10000\n",
    "epochs = 20\n",
    "n_nodes = 20\n",
    "n_layers = 2\n",
    "\n",
    "input_shape = Xtrain.shape[1:]\n",
    "\n",
    "# Build the model\n",
    "model1 = build_DNN(input_shape, n_layers, n_nodes, learning_rate = 0.1)\n",
    "\n",
    "# Train the model, provide training data and validation data\n",
    "history1 = model1.fit(Xtrain, Ytrain, batch_size = batch_size, epochs = epochs, validation_data = (Xval, Yval))"
   ]
  },
  {
   "cell_type": "code",
   "execution_count": 44,
   "metadata": {},
   "outputs": [
    {
     "name": "stdout",
     "output_type": "stream",
     "text": [
      "114621/114621 [==============================] - 4s 35us/step\n",
      "Test loss: 0.1729\n",
      "Test accuracy: 0.9077\n"
     ]
    }
   ],
   "source": [
    "# Evaluate the model on the test data\n",
    "score = model1.evaluate(Xtest, Ytest)\n",
    "\n",
    "print('Test loss: %.4f' % score[0])\n",
    "print('Test accuracy: %.4f' % score[1])"
   ]
  },
  {
   "cell_type": "code",
   "execution_count": 49,
   "metadata": {},
   "outputs": [
    {
     "data": {
      "image/png": "[encoded data removed]",
      "text/plain": [
       "<Figure size 720x288 with 1 Axes>"
      ]
     },
     "metadata": {
      "needs_background": "light"
     },
     "output_type": "display_data"
    },
    {
     "data": {
      "image/png": "[encoded data removed]",
      "text/plain": [
       "<Figure size 720x288 with 1 Axes>"
      ]
     },
     "metadata": {
      "needs_background": "light"
     },
     "output_type": "display_data"
    }
   ],
   "source": [
    "# Plot the history from the training run\n",
    "plot_results(history1)"
   ]
  },
  {
   "cell_type": "markdown",
   "metadata": {},
   "source": [
    "# Part 12: More questions\n",
    "\n",
    "Question 9: What happens if you add several Dense layers without specifying the activation function?\n",
    "\n",
    "Question 10: How are the weights in each dense layer initialized as default? How are the bias weights initialized?\n"
   ]
  },
  {
   "cell_type": "code",
   "execution_count": null,
   "metadata": {},
   "outputs": [],
   "source": [
    "# Answer 9:\n",
    "# If nothing is specified, no activation is applied --> linear activation a(x) = x\n",
    "# Even with several Dense layers this won't change and the model will do linear regression\n",
    "\n",
    "# Answer 10:\n",
    "# The default kernel initializer is glorot_uniform (Glorot uniform initializer) and the bias initializer is zeros."
   ]
  },
  {
   "cell_type": "markdown",
   "metadata": {},
   "source": [
    "# Part 13: Balancing the classes\n",
    "\n",
    "This dataset is rather unbalanced, we need to define class weights so that the training pays more attention to the class with fewer samples. We use a function in scikit learn\n",
    "\n",
    "https://scikit-learn.org/stable/modules/generated/sklearn.utils.class_weight.compute_class_weight.html"
   ]
  },
  {
   "cell_type": "code",
   "execution_count": 50,
   "metadata": {},
   "outputs": [
    {
     "name": "stdout",
     "output_type": "stream",
     "text": [
      "[3.14197437 0.5946262 ]\n"
     ]
    }
   ],
   "source": [
    "from sklearn.utils import class_weight\n",
    "\n",
    "# Calculate class weights\n",
    "class_weights = class_weight.compute_class_weight('balanced', np.unique(Ytrain),Ytrain)\n",
    "\n",
    "# Print the class weights\n",
    "print(class_weights)"
   ]
  },
  {
   "cell_type": "markdown",
   "metadata": {},
   "source": [
    "### 2 layers, 20 nodes, class weights"
   ]
  },
  {
   "cell_type": "code",
   "execution_count": 60,
   "metadata": {
    "scrolled": true
   },
   "outputs": [
    {
     "name": "stdout",
     "output_type": "stream",
     "text": [
      "Train on 534896 samples, validate on 114620 samples\n",
      "Epoch 1/20\n",
      " - 1s - loss: 0.5220 - accuracy: 0.8409 - val_loss: 0.4661 - val_accuracy: 0.8420\n",
      "Epoch 2/20\n",
      " - 1s - loss: 0.4468 - accuracy: 0.8409 - val_loss: 0.4309 - val_accuracy: 0.8420\n",
      "Epoch 3/20\n",
      " - 1s - loss: 0.4252 - accuracy: 0.8409 - val_loss: 0.4179 - val_accuracy: 0.8420\n",
      "Epoch 4/20\n",
      " - 1s - loss: 0.4158 - accuracy: 0.8409 - val_loss: 0.4108 - val_accuracy: 0.8420\n",
      "Epoch 5/20\n",
      " - 1s - loss: 0.4099 - accuracy: 0.8409 - val_loss: 0.4056 - val_accuracy: 0.8420\n",
      "Epoch 6/20\n",
      " - 1s - loss: 0.4050 - accuracy: 0.8409 - val_loss: 0.4009 - val_accuracy: 0.8420\n",
      "Epoch 7/20\n",
      " - 1s - loss: 0.4005 - accuracy: 0.8409 - val_loss: 0.3964 - val_accuracy: 0.8420\n",
      "Epoch 8/20\n",
      " - 1s - loss: 0.3960 - accuracy: 0.8409 - val_loss: 0.3920 - val_accuracy: 0.8420\n",
      "Epoch 9/20\n"
     ]
    },
    {
     "ename": "KeyboardInterrupt",
     "evalue": "",
     "output_type": "error",
     "traceback": [
      "\u001b[0;31m---------------------------------------------------------------------------\u001b[0m",
      "\u001b[0;31mKeyboardInterrupt\u001b[0m                         Traceback (most recent call last)",
      "\u001b[0;32m<ipython-input-60-3493b59a9566>\u001b[0m in \u001b[0;36m<module>\u001b[0;34m()\u001b[0m\n\u001b[1;32m      9\u001b[0m \u001b[0mmodel2\u001b[0m \u001b[0;34m=\u001b[0m \u001b[0mbuild_DNN\u001b[0m\u001b[0;34m(\u001b[0m\u001b[0minput_shape\u001b[0m\u001b[0;34m,\u001b[0m \u001b[0mn_layers\u001b[0m\u001b[0;34m,\u001b[0m \u001b[0mn_nodes\u001b[0m\u001b[0;34m)\u001b[0m\u001b[0;34m\u001b[0m\u001b[0m\n\u001b[1;32m     10\u001b[0m \u001b[0;34m\u001b[0m\u001b[0m\n\u001b[0;32m---> 11\u001b[0;31m \u001b[0mhistory2\u001b[0m \u001b[0;34m=\u001b[0m \u001b[0mmodel2\u001b[0m\u001b[0;34m.\u001b[0m\u001b[0mfit\u001b[0m\u001b[0;34m(\u001b[0m\u001b[0mXtrain\u001b[0m\u001b[0;34m,\u001b[0m \u001b[0mYtrain\u001b[0m\u001b[0;34m,\u001b[0m \u001b[0mbatch_size\u001b[0m \u001b[0;34m=\u001b[0m \u001b[0mbatch_size\u001b[0m\u001b[0;34m,\u001b[0m \u001b[0mepochs\u001b[0m \u001b[0;34m=\u001b[0m \u001b[0mepochs\u001b[0m\u001b[0;34m,\u001b[0m \u001b[0mverbose\u001b[0m \u001b[0;34m=\u001b[0m \u001b[0;36m2\u001b[0m\u001b[0;34m,\u001b[0m \u001b[0mvalidation_data\u001b[0m \u001b[0;34m=\u001b[0m \u001b[0;34m(\u001b[0m\u001b[0mXval\u001b[0m\u001b[0;34m,\u001b[0m \u001b[0mYval\u001b[0m\u001b[0;34m)\u001b[0m\u001b[0;34m,\u001b[0m \u001b[0mclass_weight\u001b[0m \u001b[0;34m=\u001b[0m \u001b[0mclass_weights\u001b[0m\u001b[0;34m)\u001b[0m\u001b[0;34m\u001b[0m\u001b[0m\n\u001b[0m",
      "\u001b[0;32m/anaconda/envs/py35/lib/python3.5/site-packages/keras/engine/training.py\u001b[0m in \u001b[0;36mfit\u001b[0;34m(self, x, y, batch_size, epochs, verbose, callbacks, validation_split, validation_data, shuffle, class_weight, sample_weight, initial_epoch, steps_per_epoch, validation_steps, validation_freq, max_queue_size, workers, use_multiprocessing, **kwargs)\u001b[0m\n\u001b[1;32m   1237\u001b[0m                                         \u001b[0msteps_per_epoch\u001b[0m\u001b[0;34m=\u001b[0m\u001b[0msteps_per_epoch\u001b[0m\u001b[0;34m,\u001b[0m\u001b[0;34m\u001b[0m\u001b[0m\n\u001b[1;32m   1238\u001b[0m                                         \u001b[0mvalidation_steps\u001b[0m\u001b[0;34m=\u001b[0m\u001b[0mvalidation_steps\u001b[0m\u001b[0;34m,\u001b[0m\u001b[0;34m\u001b[0m\u001b[0m\n\u001b[0;32m-> 1239\u001b[0;31m                                         validation_freq=validation_freq)\n\u001b[0m\u001b[1;32m   1240\u001b[0m \u001b[0;34m\u001b[0m\u001b[0m\n\u001b[1;32m   1241\u001b[0m     def evaluate(self,\n",
      "\u001b[0;32m/anaconda/envs/py35/lib/python3.5/site-packages/keras/engine/training_arrays.py\u001b[0m in \u001b[0;36mfit_loop\u001b[0;34m(model, fit_function, fit_inputs, out_labels, batch_size, epochs, verbose, callbacks, val_function, val_inputs, shuffle, initial_epoch, steps_per_epoch, validation_steps, validation_freq)\u001b[0m\n\u001b[1;32m    194\u001b[0m                     \u001b[0mins_batch\u001b[0m\u001b[0;34m[\u001b[0m\u001b[0mi\u001b[0m\u001b[0;34m]\u001b[0m \u001b[0;34m=\u001b[0m \u001b[0mins_batch\u001b[0m\u001b[0;34m[\u001b[0m\u001b[0mi\u001b[0m\u001b[0;34m]\u001b[0m\u001b[0;34m.\u001b[0m\u001b[0mtoarray\u001b[0m\u001b[0;34m(\u001b[0m\u001b[0;34m)\u001b[0m\u001b[0;34m\u001b[0m\u001b[0m\n\u001b[1;32m    195\u001b[0m \u001b[0;34m\u001b[0m\u001b[0m\n\u001b[0;32m--> 196\u001b[0;31m                 \u001b[0mouts\u001b[0m \u001b[0;34m=\u001b[0m \u001b[0mfit_function\u001b[0m\u001b[0;34m(\u001b[0m\u001b[0mins_batch\u001b[0m\u001b[0;34m)\u001b[0m\u001b[0;34m\u001b[0m\u001b[0m\n\u001b[0m\u001b[1;32m    197\u001b[0m                 \u001b[0mouts\u001b[0m \u001b[0;34m=\u001b[0m \u001b[0mto_list\u001b[0m\u001b[0;34m(\u001b[0m\u001b[0mouts\u001b[0m\u001b[0;34m)\u001b[0m\u001b[0;34m\u001b[0m\u001b[0m\n\u001b[1;32m    198\u001b[0m                 \u001b[0;32mfor\u001b[0m \u001b[0ml\u001b[0m\u001b[0;34m,\u001b[0m \u001b[0mo\u001b[0m \u001b[0;32min\u001b[0m \u001b[0mzip\u001b[0m\u001b[0;34m(\u001b[0m\u001b[0mout_labels\u001b[0m\u001b[0;34m,\u001b[0m \u001b[0mouts\u001b[0m\u001b[0;34m)\u001b[0m\u001b[0;34m:\u001b[0m\u001b[0;34m\u001b[0m\u001b[0m\n",
      "\u001b[0;32m/anaconda/envs/py35/lib/python3.5/site-packages/tensorflow_core/python/keras/backend.py\u001b[0m in \u001b[0;36m__call__\u001b[0;34m(self, inputs)\u001b[0m\n\u001b[1;32m   3732\u001b[0m               'You must feed a value for placeholder %s' % (tensor,))\n\u001b[1;32m   3733\u001b[0m       \u001b[0;32mif\u001b[0m \u001b[0;32mnot\u001b[0m \u001b[0misinstance\u001b[0m\u001b[0;34m(\u001b[0m\u001b[0mvalue\u001b[0m\u001b[0;34m,\u001b[0m \u001b[0mops\u001b[0m\u001b[0;34m.\u001b[0m\u001b[0mTensor\u001b[0m\u001b[0;34m)\u001b[0m\u001b[0;34m:\u001b[0m\u001b[0;34m\u001b[0m\u001b[0m\n\u001b[0;32m-> 3734\u001b[0;31m         \u001b[0mvalue\u001b[0m \u001b[0;34m=\u001b[0m \u001b[0mops\u001b[0m\u001b[0;34m.\u001b[0m\u001b[0mconvert_to_tensor\u001b[0m\u001b[0;34m(\u001b[0m\u001b[0mvalue\u001b[0m\u001b[0;34m,\u001b[0m \u001b[0mdtype\u001b[0m\u001b[0;34m=\u001b[0m\u001b[0mtensor\u001b[0m\u001b[0;34m.\u001b[0m\u001b[0mdtype\u001b[0m\u001b[0;34m)\u001b[0m\u001b[0;34m\u001b[0m\u001b[0m\n\u001b[0m\u001b[1;32m   3735\u001b[0m       \u001b[0;32mif\u001b[0m \u001b[0mvalue\u001b[0m\u001b[0;34m.\u001b[0m\u001b[0mdtype\u001b[0m \u001b[0;34m!=\u001b[0m \u001b[0mtensor\u001b[0m\u001b[0;34m.\u001b[0m\u001b[0mdtype\u001b[0m\u001b[0;34m:\u001b[0m\u001b[0;34m\u001b[0m\u001b[0m\n\u001b[1;32m   3736\u001b[0m         \u001b[0;31m# Temporary workaround due to `convert_to_tensor` not casting floats.\u001b[0m\u001b[0;34m\u001b[0m\u001b[0;34m\u001b[0m\u001b[0m\n",
      "\u001b[0;32m/anaconda/envs/py35/lib/python3.5/site-packages/tensorflow_core/python/framework/ops.py\u001b[0m in \u001b[0;36mconvert_to_tensor\u001b[0;34m(value, dtype, name, preferred_dtype, dtype_hint)\u001b[0m\n\u001b[1;32m   1182\u001b[0m   preferred_dtype = deprecation.deprecated_argument_lookup(\n\u001b[1;32m   1183\u001b[0m       \"dtype_hint\", dtype_hint, \"preferred_dtype\", preferred_dtype)\n\u001b[0;32m-> 1184\u001b[0;31m   \u001b[0;32mreturn\u001b[0m \u001b[0mconvert_to_tensor_v2\u001b[0m\u001b[0;34m(\u001b[0m\u001b[0mvalue\u001b[0m\u001b[0;34m,\u001b[0m \u001b[0mdtype\u001b[0m\u001b[0;34m,\u001b[0m \u001b[0mpreferred_dtype\u001b[0m\u001b[0;34m,\u001b[0m \u001b[0mname\u001b[0m\u001b[0;34m)\u001b[0m\u001b[0;34m\u001b[0m\u001b[0m\n\u001b[0m\u001b[1;32m   1185\u001b[0m \u001b[0;34m\u001b[0m\u001b[0m\n\u001b[1;32m   1186\u001b[0m \u001b[0;34m\u001b[0m\u001b[0m\n",
      "\u001b[0;32m/anaconda/envs/py35/lib/python3.5/site-packages/tensorflow_core/python/framework/ops.py\u001b[0m in \u001b[0;36mconvert_to_tensor_v2\u001b[0;34m(value, dtype, dtype_hint, name)\u001b[0m\n\u001b[1;32m   1240\u001b[0m       \u001b[0mname\u001b[0m\u001b[0;34m=\u001b[0m\u001b[0mname\u001b[0m\u001b[0;34m,\u001b[0m\u001b[0;34m\u001b[0m\u001b[0m\n\u001b[1;32m   1241\u001b[0m       \u001b[0mpreferred_dtype\u001b[0m\u001b[0;34m=\u001b[0m\u001b[0mdtype_hint\u001b[0m\u001b[0;34m,\u001b[0m\u001b[0;34m\u001b[0m\u001b[0m\n\u001b[0;32m-> 1242\u001b[0;31m       as_ref=False)\n\u001b[0m\u001b[1;32m   1243\u001b[0m \u001b[0;34m\u001b[0m\u001b[0m\n\u001b[1;32m   1244\u001b[0m \u001b[0;34m\u001b[0m\u001b[0m\n",
      "\u001b[0;32m/anaconda/envs/py35/lib/python3.5/site-packages/tensorflow_core/python/framework/ops.py\u001b[0m in \u001b[0;36minternal_convert_to_tensor\u001b[0;34m(value, dtype, name, as_ref, preferred_dtype, ctx, accept_composite_tensors)\u001b[0m\n\u001b[1;32m   1294\u001b[0m \u001b[0;34m\u001b[0m\u001b[0m\n\u001b[1;32m   1295\u001b[0m     \u001b[0;32mif\u001b[0m \u001b[0mret\u001b[0m \u001b[0;32mis\u001b[0m \u001b[0;32mNone\u001b[0m\u001b[0;34m:\u001b[0m\u001b[0;34m\u001b[0m\u001b[0m\n\u001b[0;32m-> 1296\u001b[0;31m       \u001b[0mret\u001b[0m \u001b[0;34m=\u001b[0m \u001b[0mconversion_func\u001b[0m\u001b[0;34m(\u001b[0m\u001b[0mvalue\u001b[0m\u001b[0;34m,\u001b[0m \u001b[0mdtype\u001b[0m\u001b[0;34m=\u001b[0m\u001b[0mdtype\u001b[0m\u001b[0;34m,\u001b[0m \u001b[0mname\u001b[0m\u001b[0;34m=\u001b[0m\u001b[0mname\u001b[0m\u001b[0;34m,\u001b[0m \u001b[0mas_ref\u001b[0m\u001b[0;34m=\u001b[0m\u001b[0mas_ref\u001b[0m\u001b[0;34m)\u001b[0m\u001b[0;34m\u001b[0m\u001b[0m\n\u001b[0m\u001b[1;32m   1297\u001b[0m \u001b[0;34m\u001b[0m\u001b[0m\n\u001b[1;32m   1298\u001b[0m     \u001b[0;32mif\u001b[0m \u001b[0mret\u001b[0m \u001b[0;32mis\u001b[0m \u001b[0mNotImplemented\u001b[0m\u001b[0;34m:\u001b[0m\u001b[0;34m\u001b[0m\u001b[0m\n",
      "\u001b[0;32m/anaconda/envs/py35/lib/python3.5/site-packages/tensorflow_core/python/framework/tensor_conversion_registry.py\u001b[0m in \u001b[0;36m_default_conversion_function\u001b[0;34m(***failed resolving arguments***)\u001b[0m\n\u001b[1;32m     50\u001b[0m \u001b[0;32mdef\u001b[0m \u001b[0m_default_conversion_function\u001b[0m\u001b[0;34m(\u001b[0m\u001b[0mvalue\u001b[0m\u001b[0;34m,\u001b[0m \u001b[0mdtype\u001b[0m\u001b[0;34m,\u001b[0m \u001b[0mname\u001b[0m\u001b[0;34m,\u001b[0m \u001b[0mas_ref\u001b[0m\u001b[0;34m)\u001b[0m\u001b[0;34m:\u001b[0m\u001b[0;34m\u001b[0m\u001b[0m\n\u001b[1;32m     51\u001b[0m   \u001b[0;32mdel\u001b[0m \u001b[0mas_ref\u001b[0m  \u001b[0;31m# Unused.\u001b[0m\u001b[0;34m\u001b[0m\u001b[0m\n\u001b[0;32m---> 52\u001b[0;31m   \u001b[0;32mreturn\u001b[0m \u001b[0mconstant_op\u001b[0m\u001b[0;34m.\u001b[0m\u001b[0mconstant\u001b[0m\u001b[0;34m(\u001b[0m\u001b[0mvalue\u001b[0m\u001b[0;34m,\u001b[0m \u001b[0mdtype\u001b[0m\u001b[0;34m,\u001b[0m \u001b[0mname\u001b[0m\u001b[0;34m=\u001b[0m\u001b[0mname\u001b[0m\u001b[0;34m)\u001b[0m\u001b[0;34m\u001b[0m\u001b[0m\n\u001b[0m\u001b[1;32m     53\u001b[0m \u001b[0;34m\u001b[0m\u001b[0m\n\u001b[1;32m     54\u001b[0m \u001b[0;34m\u001b[0m\u001b[0m\n",
      "\u001b[0;32m/anaconda/envs/py35/lib/python3.5/site-packages/tensorflow_core/python/framework/constant_op.py\u001b[0m in \u001b[0;36mconstant\u001b[0;34m(value, dtype, shape, name)\u001b[0m\n\u001b[1;32m    225\u001b[0m   \"\"\"\n\u001b[1;32m    226\u001b[0m   return _constant_impl(value, dtype, shape, name, verify_shape=False,\n\u001b[0;32m--> 227\u001b[0;31m                         allow_broadcast=True)\n\u001b[0m\u001b[1;32m    228\u001b[0m \u001b[0;34m\u001b[0m\u001b[0m\n\u001b[1;32m    229\u001b[0m \u001b[0;34m\u001b[0m\u001b[0m\n",
      "\u001b[0;32m/anaconda/envs/py35/lib/python3.5/site-packages/tensorflow_core/python/framework/constant_op.py\u001b[0m in \u001b[0;36m_constant_impl\u001b[0;34m(value, dtype, shape, name, verify_shape, allow_broadcast)\u001b[0m\n\u001b[1;32m    233\u001b[0m   \u001b[0mctx\u001b[0m \u001b[0;34m=\u001b[0m \u001b[0mcontext\u001b[0m\u001b[0;34m.\u001b[0m\u001b[0mcontext\u001b[0m\u001b[0;34m(\u001b[0m\u001b[0;34m)\u001b[0m\u001b[0;34m\u001b[0m\u001b[0m\n\u001b[1;32m    234\u001b[0m   \u001b[0;32mif\u001b[0m \u001b[0mctx\u001b[0m\u001b[0;34m.\u001b[0m\u001b[0mexecuting_eagerly\u001b[0m\u001b[0;34m(\u001b[0m\u001b[0;34m)\u001b[0m\u001b[0;34m:\u001b[0m\u001b[0;34m\u001b[0m\u001b[0m\n\u001b[0;32m--> 235\u001b[0;31m     \u001b[0mt\u001b[0m \u001b[0;34m=\u001b[0m \u001b[0mconvert_to_eager_tensor\u001b[0m\u001b[0;34m(\u001b[0m\u001b[0mvalue\u001b[0m\u001b[0;34m,\u001b[0m \u001b[0mctx\u001b[0m\u001b[0;34m,\u001b[0m \u001b[0mdtype\u001b[0m\u001b[0;34m)\u001b[0m\u001b[0;34m\u001b[0m\u001b[0m\n\u001b[0m\u001b[1;32m    236\u001b[0m     \u001b[0;32mif\u001b[0m \u001b[0mshape\u001b[0m \u001b[0;32mis\u001b[0m \u001b[0;32mNone\u001b[0m\u001b[0;34m:\u001b[0m\u001b[0;34m\u001b[0m\u001b[0m\n\u001b[1;32m    237\u001b[0m       \u001b[0;32mreturn\u001b[0m \u001b[0mt\u001b[0m\u001b[0;34m\u001b[0m\u001b[0m\n",
      "\u001b[0;32m/anaconda/envs/py35/lib/python3.5/site-packages/tensorflow_core/python/framework/constant_op.py\u001b[0m in \u001b[0;36mconvert_to_eager_tensor\u001b[0;34m(value, ctx, dtype)\u001b[0m\n\u001b[1;32m     94\u001b[0m       \u001b[0mdtype\u001b[0m \u001b[0;34m=\u001b[0m \u001b[0mdtypes\u001b[0m\u001b[0;34m.\u001b[0m\u001b[0mas_dtype\u001b[0m\u001b[0;34m(\u001b[0m\u001b[0mdtype\u001b[0m\u001b[0;34m)\u001b[0m\u001b[0;34m.\u001b[0m\u001b[0mas_datatype_enum\u001b[0m\u001b[0;34m\u001b[0m\u001b[0m\n\u001b[1;32m     95\u001b[0m   \u001b[0mctx\u001b[0m\u001b[0;34m.\u001b[0m\u001b[0mensure_initialized\u001b[0m\u001b[0;34m(\u001b[0m\u001b[0;34m)\u001b[0m\u001b[0;34m\u001b[0m\u001b[0m\n\u001b[0;32m---> 96\u001b[0;31m   \u001b[0;32mreturn\u001b[0m \u001b[0mops\u001b[0m\u001b[0;34m.\u001b[0m\u001b[0mEagerTensor\u001b[0m\u001b[0;34m(\u001b[0m\u001b[0mvalue\u001b[0m\u001b[0;34m,\u001b[0m \u001b[0mctx\u001b[0m\u001b[0;34m.\u001b[0m\u001b[0mdevice_name\u001b[0m\u001b[0;34m,\u001b[0m \u001b[0mdtype\u001b[0m\u001b[0;34m)\u001b[0m\u001b[0;34m\u001b[0m\u001b[0m\n\u001b[0m\u001b[1;32m     97\u001b[0m \u001b[0;34m\u001b[0m\u001b[0m\n\u001b[1;32m     98\u001b[0m \u001b[0;34m\u001b[0m\u001b[0m\n",
      "\u001b[0;31mKeyboardInterrupt\u001b[0m: "
     ]
    }
   ],
   "source": [
    "# Setup some training parameters\n",
    "batch_size = 10000 #10000\n",
    "epochs = 20 #20\n",
    "n_layers = 2\n",
    "input_shape = Xtrain.shape[1:]\n",
    "n_nodes = 20\n",
    "\n",
    "# Build and train model\n",
    "model2 = build_DNN(input_shape, n_layers, n_nodes)\n",
    "\n",
    "history2 = model2.fit(Xtrain, Ytrain, batch_size = batch_size, epochs = epochs, verbose = 2, validation_data = (Xval, Yval), class_weight = class_weights)"
   ]
  },
  {
   "cell_type": "code",
   "execution_count": 70,
   "metadata": {},
   "outputs": [
    {
     "name": "stdout",
     "output_type": "stream",
     "text": [
      "114621/114621 [==============================] - 0s 1us/step\n",
      "Model: \"sequential_18\"\n",
      "_________________________________________________________________\n",
      "Layer (type)                 Output Shape              Param #   \n",
      "=================================================================\n",
      "dense_46 (Dense)             (None, 20)                1860      \n",
      "_________________________________________________________________\n",
      "dense_47 (Dense)             (None, 20)                420       \n",
      "_________________________________________________________________\n",
      "dense_48 (Dense)             (None, 1)                 21        \n",
      "=================================================================\n",
      "Total params: 2,301\n",
      "Trainable params: 2,301\n",
      "Non-trainable params: 0\n",
      "_________________________________________________________________\n",
      "Test loss: 0.3942\n",
      "Test accuracy: 0.8397\n"
     ]
    }
   ],
   "source": [
    "# Evaluate model on test data\n",
    "score = model2.evaluate(Xtest, Ytest, batch_size = batch_size)\n",
    "\n",
    "model2.summary()\n",
    "\n",
    "print('Test loss: %.4f' % score[0])\n",
    "print('Test accuracy: %.4f' % score[1])"
   ]
  },
  {
   "cell_type": "code",
   "execution_count": 55,
   "metadata": {},
   "outputs": [
    {
     "data": {
      "image/png": "[encoded data removed]",
      "text/plain": [
       "<Figure size 720x288 with 1 Axes>"
      ]
     },
     "metadata": {
      "needs_background": "light"
     },
     "output_type": "display_data"
    },
    {
     "data": {
      "image/png": "[encoded data removed]",
      "text/plain": [
       "<Figure size 720x288 with 1 Axes>"
      ]
     },
     "metadata": {
      "needs_background": "light"
     },
     "output_type": "display_data"
    }
   ],
   "source": [
    "plot_results(history2)"
   ]
  },
  {
   "cell_type": "markdown",
   "metadata": {},
   "source": [
    "# Part 14: More questions\n",
    "\n",
    "Question 11: Why do we have to use a batch size? Why can't we simply use all data at once? This is more relevant for even larger datasets.\n",
    "\n",
    "Question 12: How busy is the GPU for a batch size of 100? How much GPU memory is used? Hint: run 'nvidia-smi' on the cloud computer a few times during training.\n",
    "\n",
    "Question 13: What is the processing time for one training epoch when the batch size is 100? What is the processing time for one epoch when the batch size is 1,000? What is the processing time for one epoch when the batch size is 10,000? Explain the results. \n",
    "\n",
    "Question 14: How many times are the weights in the DNN updated in each training epoch if the batch size is 100? How many times are the weights in the DNN updated in each training epoch if the batch size is 1,000? How many times are the weights in the DNN updated in each training epoch if the batch size is 10,000?  \n",
    "\n",
    "Question 15: What limits how large the batch size can be?\n",
    "\n",
    "Question 16: Generally speaking, how is the learning rate related to the batch size? If the batch size is decreased, how should the learning rate be changed?\n",
    "\n",
    "Lets use a batch size of 10,000 from now on, and a learning rate of 0.1."
   ]
  },
  {
   "cell_type": "code",
   "execution_count": null,
   "metadata": {},
   "outputs": [],
   "source": [
    "# Answer 11:\n",
    "# We have to use a batch size because all the data wouldn't fit in the storage space of the GPU all at once.\n",
    "# Answer 12:\n",
    "# With batch size = 100 between 29 and 32% GPU memory is being used.\n",
    "# Answer 13:\n",
    "# Processing time for:\n",
    "# 1 training epoch with batch size = 100: 13 sec\n",
    "# 1 training epoch with batch size = 1000: 2 sec\n",
    "# 1 training epoch with batch size = 10000: 1 sec\n",
    "# Explanation:\n",
    "# Answer 14:\n",
    "# Number of times weights are updated for:\n",
    "# Batch size 100: 534896/100\n",
    "# Batch size 1000: 534896/1000\n",
    "# Batch size 10000: 534896/10000\n",
    "\n",
    "\n",
    "# Answer 15:\n",
    "# The batch size shouldn't be to small because this makes the gradien more noisy (but can have regularization effect). The batch size cannot be larger than the memory capacity of the GPU after accounting for all the other data that is stored on GPU memory.\n",
    "\n",
    "# Answer 16:\n",
    "# The larger the batch size, the higher the learning rate should be because you don't update the weights as often relative to smaller batch sizes."
   ]
  },
  {
   "cell_type": "markdown",
   "metadata": {},
   "source": [
    "# Part 15: Increasing the complexity\n",
    "\n",
    "Lets try some different configurations of number of layers and number of nodes per layer.\n",
    "\n",
    "Question 17: How many trainable parameters does the network with 4 dense layers with 50 nodes each have, compared to the initial network with 2 layers and 20 nodes per layer? Hint: use model.summary()"
   ]
  },
  {
   "cell_type": "code",
   "execution_count": null,
   "metadata": {},
   "outputs": [],
   "source": [
    "#The initial network has 2,301 Trainable params\n",
    "#The network with 4 layers and 50 nodes has 12,351 Trainable params\n"
   ]
  },
  {
   "cell_type": "markdown",
   "metadata": {},
   "source": [
    "### 4 layers, 20 nodes, class weights"
   ]
  },
  {
   "cell_type": "code",
   "execution_count": 61,
   "metadata": {
    "scrolled": true
   },
   "outputs": [
    {
     "name": "stdout",
     "output_type": "stream",
     "text": [
      "Train on 534896 samples, validate on 114620 samples\n",
      "Epoch 1/20\n",
      " - 1s - loss: 0.5248 - accuracy: 0.8409 - val_loss: 0.4787 - val_accuracy: 0.8420\n",
      "Epoch 2/20\n",
      " - 1s - loss: 0.4630 - accuracy: 0.8409 - val_loss: 0.4500 - val_accuracy: 0.8420\n",
      "Epoch 3/20\n",
      " - 1s - loss: 0.4464 - accuracy: 0.8409 - val_loss: 0.4412 - val_accuracy: 0.8420\n",
      "Epoch 4/20\n",
      " - 1s - loss: 0.4412 - accuracy: 0.8409 - val_loss: 0.4382 - val_accuracy: 0.8420\n",
      "Epoch 5/20\n",
      " - 1s - loss: 0.4394 - accuracy: 0.8409 - val_loss: 0.4371 - val_accuracy: 0.8420\n",
      "Epoch 6/20\n",
      " - 1s - loss: 0.4387 - accuracy: 0.8409 - val_loss: 0.4366 - val_accuracy: 0.8420\n",
      "Epoch 7/20\n",
      " - 1s - loss: 0.4384 - accuracy: 0.8409 - val_loss: 0.4364 - val_accuracy: 0.8420\n",
      "Epoch 8/20\n",
      " - 1s - loss: 0.4383 - accuracy: 0.8409 - val_loss: 0.4364 - val_accuracy: 0.8420\n",
      "Epoch 9/20\n",
      " - 1s - loss: 0.4382 - accuracy: 0.8409 - val_loss: 0.4363 - val_accuracy: 0.8420\n",
      "Epoch 10/20\n",
      " - 1s - loss: 0.4382 - accuracy: 0.8409 - val_loss: 0.4363 - val_accuracy: 0.8420\n",
      "Epoch 11/20\n",
      " - 1s - loss: 0.4382 - accuracy: 0.8409 - val_loss: 0.4362 - val_accuracy: 0.8420\n",
      "Epoch 12/20\n",
      " - 1s - loss: 0.4381 - accuracy: 0.8409 - val_loss: 0.4362 - val_accuracy: 0.8420\n",
      "Epoch 13/20\n",
      " - 1s - loss: 0.4381 - accuracy: 0.8409 - val_loss: 0.4362 - val_accuracy: 0.8420\n",
      "Epoch 14/20\n",
      " - 1s - loss: 0.4381 - accuracy: 0.8409 - val_loss: 0.4361 - val_accuracy: 0.8420\n",
      "Epoch 15/20\n",
      " - 1s - loss: 0.4381 - accuracy: 0.8409 - val_loss: 0.4361 - val_accuracy: 0.8420\n",
      "Epoch 16/20\n",
      " - 1s - loss: 0.4380 - accuracy: 0.8409 - val_loss: 0.4361 - val_accuracy: 0.8420\n",
      "Epoch 17/20\n",
      " - 1s - loss: 0.4380 - accuracy: 0.8409 - val_loss: 0.4361 - val_accuracy: 0.8420\n",
      "Epoch 18/20\n",
      " - 1s - loss: 0.4380 - accuracy: 0.8409 - val_loss: 0.4360 - val_accuracy: 0.8420\n",
      "Epoch 19/20\n",
      " - 1s - loss: 0.4380 - accuracy: 0.8409 - val_loss: 0.4360 - val_accuracy: 0.8420\n",
      "Epoch 20/20\n",
      " - 1s - loss: 0.4379 - accuracy: 0.8409 - val_loss: 0.4360 - val_accuracy: 0.8420\n"
     ]
    }
   ],
   "source": [
    "# Setup some training parameters\n",
    "batch_size = 10000\n",
    "epochs = 20\n",
    "input_shape = Xtrain.shape[1:]\n",
    "n_layers = 4\n",
    "n_nodes = 20\n",
    "\n",
    "# Build and train model\n",
    "model3 = build_DNN(input_shape, n_layers, n_nodes)\n",
    "\n",
    "history3 = model3.fit(Xtrain, Ytrain, batch_size = batch_size, epochs = epochs, verbose = 2, validation_data = (Xval, Yval), class_weight = class_weights)"
   ]
  },
  {
   "cell_type": "code",
   "execution_count": 62,
   "metadata": {},
   "outputs": [
    {
     "name": "stdout",
     "output_type": "stream",
     "text": [
      "114621/114621 [==============================] - 0s 1us/step\n",
      "Model: \"sequential_19\"\n",
      "_________________________________________________________________\n",
      "Layer (type)                 Output Shape              Param #   \n",
      "=================================================================\n",
      "dense_49 (Dense)             (None, 20)                1860      \n",
      "_________________________________________________________________\n",
      "dense_50 (Dense)             (None, 20)                420       \n",
      "_________________________________________________________________\n",
      "dense_51 (Dense)             (None, 20)                420       \n",
      "_________________________________________________________________\n",
      "dense_52 (Dense)             (None, 20)                420       \n",
      "_________________________________________________________________\n",
      "dense_53 (Dense)             (None, 1)                 21        \n",
      "=================================================================\n",
      "Total params: 3,141\n",
      "Trainable params: 3,141\n",
      "Non-trainable params: 0\n",
      "_________________________________________________________________\n",
      "Test loss: 0.4399\n",
      "Test accuracy: 0.8397\n"
     ]
    }
   ],
   "source": [
    "# Evaluate model on test data\n",
    "score = model3.evaluate(Xtest, Ytest, batch_size = batch_size)\n",
    "\n",
    "model3. summary()\n",
    "print('Test loss: %.4f' % score[0])\n",
    "print('Test accuracy: %.4f' % score[1])"
   ]
  },
  {
   "cell_type": "code",
   "execution_count": null,
   "metadata": {},
   "outputs": [],
   "source": [
    "plot_results(history3)"
   ]
  },
  {
   "cell_type": "markdown",
   "metadata": {},
   "source": [
    "### 2 layers, 50 nodes, class weights"
   ]
  },
  {
   "cell_type": "code",
   "execution_count": 63,
   "metadata": {
    "scrolled": true
   },
   "outputs": [
    {
     "name": "stdout",
     "output_type": "stream",
     "text": [
      "Train on 534896 samples, validate on 114620 samples\n",
      "Epoch 1/20\n",
      " - 1s - loss: 0.5260 - accuracy: 0.8146 - val_loss: 0.4514 - val_accuracy: 0.8420\n",
      "Epoch 2/20\n",
      " - 1s - loss: 0.4421 - accuracy: 0.8409 - val_loss: 0.4335 - val_accuracy: 0.8420\n",
      "Epoch 3/20\n",
      " - 1s - loss: 0.4316 - accuracy: 0.8409 - val_loss: 0.4263 - val_accuracy: 0.8420\n",
      "Epoch 4/20\n",
      " - 1s - loss: 0.4251 - accuracy: 0.8409 - val_loss: 0.4201 - val_accuracy: 0.8420\n",
      "Epoch 5/20\n",
      " - 1s - loss: 0.4189 - accuracy: 0.8409 - val_loss: 0.4139 - val_accuracy: 0.8420\n",
      "Epoch 6/20\n",
      " - 1s - loss: 0.4127 - accuracy: 0.8409 - val_loss: 0.4077 - val_accuracy: 0.8420\n",
      "Epoch 7/20\n",
      " - 1s - loss: 0.4064 - accuracy: 0.8409 - val_loss: 0.4015 - val_accuracy: 0.8420\n",
      "Epoch 8/20\n",
      " - 1s - loss: 0.4001 - accuracy: 0.8409 - val_loss: 0.3951 - val_accuracy: 0.8420\n",
      "Epoch 9/20\n",
      " - 1s - loss: 0.3936 - accuracy: 0.8409 - val_loss: 0.3886 - val_accuracy: 0.8420\n",
      "Epoch 10/20\n",
      " - 1s - loss: 0.3870 - accuracy: 0.8409 - val_loss: 0.3819 - val_accuracy: 0.8420\n",
      "Epoch 11/20\n",
      " - 1s - loss: 0.3802 - accuracy: 0.8409 - val_loss: 0.3751 - val_accuracy: 0.8420\n",
      "Epoch 12/20\n",
      " - 1s - loss: 0.3733 - accuracy: 0.8409 - val_loss: 0.3682 - val_accuracy: 0.8420\n",
      "Epoch 13/20\n",
      " - 1s - loss: 0.3662 - accuracy: 0.8409 - val_loss: 0.3610 - val_accuracy: 0.8420\n",
      "Epoch 14/20\n",
      " - 1s - loss: 0.3590 - accuracy: 0.8409 - val_loss: 0.3538 - val_accuracy: 0.8420\n",
      "Epoch 15/20\n",
      " - 1s - loss: 0.3516 - accuracy: 0.8409 - val_loss: 0.3464 - val_accuracy: 0.8420\n",
      "Epoch 16/20\n",
      " - 1s - loss: 0.3441 - accuracy: 0.8409 - val_loss: 0.3389 - val_accuracy: 0.8420\n",
      "Epoch 17/20\n",
      " - 1s - loss: 0.3366 - accuracy: 0.8409 - val_loss: 0.3313 - val_accuracy: 0.8420\n",
      "Epoch 18/20\n",
      " - 1s - loss: 0.3289 - accuracy: 0.8409 - val_loss: 0.3238 - val_accuracy: 0.8420\n",
      "Epoch 19/20\n",
      " - 1s - loss: 0.3213 - accuracy: 0.8409 - val_loss: 0.3162 - val_accuracy: 0.8421\n",
      "Epoch 20/20\n",
      " - 1s - loss: 0.3137 - accuracy: 0.8410 - val_loss: 0.3087 - val_accuracy: 0.8425\n"
     ]
    }
   ],
   "source": [
    "# Setup some training parameters\n",
    "batch_size = 10000\n",
    "epochs = 20\n",
    "input_shape = Xtrain.shape[1:]\n",
    "n_layers = 2\n",
    "n_nodes = 50\n",
    "\n",
    "# Build and train model\n",
    "model4 = build_DNN(input_shape, n_layers, n_nodes)\n",
    "\n",
    "history4 = model4.fit(Xtrain, Ytrain, batch_size = batch_size, epochs = epochs, verbose = 2, validation_data = (Xval, Yval), class_weight = class_weights)"
   ]
  },
  {
   "cell_type": "code",
   "execution_count": 64,
   "metadata": {},
   "outputs": [
    {
     "name": "stdout",
     "output_type": "stream",
     "text": [
      "114621/114621 [==============================] - 0s 1us/step\n",
      "Model: \"sequential_20\"\n",
      "_________________________________________________________________\n",
      "Layer (type)                 Output Shape              Param #   \n",
      "=================================================================\n",
      "dense_54 (Dense)             (None, 50)                4650      \n",
      "_________________________________________________________________\n",
      "dense_55 (Dense)             (None, 50)                2550      \n",
      "_________________________________________________________________\n",
      "dense_56 (Dense)             (None, 1)                 51        \n",
      "=================================================================\n",
      "Total params: 7,251\n",
      "Trainable params: 7,251\n",
      "Non-trainable params: 0\n",
      "_________________________________________________________________\n",
      "Test loss: 0.3118\n",
      "Test accuracy: 0.8399\n"
     ]
    }
   ],
   "source": [
    "# Evaluate model on test data\n",
    "score = model4.evaluate(Xtest, Ytest, batch_size = batch_size)\n",
    "model4.summary()\n",
    "\n",
    "print('Test loss: %.4f' % score[0])\n",
    "print('Test accuracy: %.4f' % score[1])"
   ]
  },
  {
   "cell_type": "code",
   "execution_count": null,
   "metadata": {},
   "outputs": [],
   "source": [
    "plot_results(history4)"
   ]
  },
  {
   "cell_type": "markdown",
   "metadata": {},
   "source": [
    "### 4 layers, 50 nodes, class weights"
   ]
  },
  {
   "cell_type": "code",
   "execution_count": 68,
   "metadata": {
    "scrolled": true
   },
   "outputs": [
    {
     "name": "stdout",
     "output_type": "stream",
     "text": [
      "Train on 534896 samples, validate on 114620 samples\n",
      "Epoch 1/20\n",
      " - 1s - loss: 0.4376 - accuracy: 0.8409 - val_loss: 0.4356 - val_accuracy: 0.8420\n",
      "Epoch 2/20\n",
      " - 1s - loss: 0.4375 - accuracy: 0.8409 - val_loss: 0.4355 - val_accuracy: 0.8420\n",
      "Epoch 3/20\n",
      " - 1s - loss: 0.4375 - accuracy: 0.8409 - val_loss: 0.4355 - val_accuracy: 0.8420\n",
      "Epoch 4/20\n",
      " - 1s - loss: 0.4374 - accuracy: 0.8409 - val_loss: 0.4355 - val_accuracy: 0.8420\n",
      "Epoch 5/20\n",
      " - 1s - loss: 0.4374 - accuracy: 0.8409 - val_loss: 0.4354 - val_accuracy: 0.8420\n",
      "Epoch 6/20\n",
      " - 1s - loss: 0.4373 - accuracy: 0.8409 - val_loss: 0.4354 - val_accuracy: 0.8420\n",
      "Epoch 7/20\n",
      " - 1s - loss: 0.4373 - accuracy: 0.8409 - val_loss: 0.4354 - val_accuracy: 0.8420\n",
      "Epoch 8/20\n",
      " - 1s - loss: 0.4373 - accuracy: 0.8409 - val_loss: 0.4353 - val_accuracy: 0.8420\n",
      "Epoch 9/20\n",
      " - 1s - loss: 0.4372 - accuracy: 0.8409 - val_loss: 0.4353 - val_accuracy: 0.8420\n",
      "Epoch 10/20\n",
      " - 1s - loss: 0.4372 - accuracy: 0.8409 - val_loss: 0.4352 - val_accuracy: 0.8420\n",
      "Epoch 11/20\n",
      " - 1s - loss: 0.4372 - accuracy: 0.8409 - val_loss: 0.4352 - val_accuracy: 0.8420\n",
      "Epoch 12/20\n",
      " - 1s - loss: 0.4371 - accuracy: 0.8409 - val_loss: 0.4352 - val_accuracy: 0.8420\n",
      "Epoch 13/20\n",
      " - 1s - loss: 0.4371 - accuracy: 0.8409 - val_loss: 0.4351 - val_accuracy: 0.8420\n",
      "Epoch 14/20\n",
      " - 1s - loss: 0.4370 - accuracy: 0.8409 - val_loss: 0.4351 - val_accuracy: 0.8420\n",
      "Epoch 15/20\n",
      " - 1s - loss: 0.4370 - accuracy: 0.8409 - val_loss: 0.4351 - val_accuracy: 0.8420\n",
      "Epoch 16/20\n",
      " - 1s - loss: 0.4370 - accuracy: 0.8409 - val_loss: 0.4350 - val_accuracy: 0.8420\n",
      "Epoch 17/20\n",
      " - 1s - loss: 0.4369 - accuracy: 0.8409 - val_loss: 0.4350 - val_accuracy: 0.8420\n",
      "Epoch 18/20\n",
      " - 1s - loss: 0.4369 - accuracy: 0.8409 - val_loss: 0.4349 - val_accuracy: 0.8420\n",
      "Epoch 19/20\n",
      " - 1s - loss: 0.4368 - accuracy: 0.8409 - val_loss: 0.4349 - val_accuracy: 0.8420\n",
      "Epoch 20/20\n",
      " - 1s - loss: 0.4368 - accuracy: 0.8409 - val_loss: 0.4348 - val_accuracy: 0.8420\n"
     ]
    }
   ],
   "source": [
    "# Setup some training parameters\n",
    "batch_size = 10000\n",
    "epochs = 20\n",
    "input_shape = Xtrain.shape[1:]\n",
    "n_layers = 4\n",
    "n_nodes = 50\n",
    "\n",
    "# Build and train model\n",
    "model5 = build_DNN(input_shape, n_layers, n_nodes)\n",
    "\n",
    "history5 = model5.fit(Xtrain, Ytrain, batch_size = batch_size, epochs = epochs, verbose = 2, validation_data = (Xval, Yval), class_weight = class_weights)"
   ]
  },
  {
   "cell_type": "code",
   "execution_count": 69,
   "metadata": {},
   "outputs": [
    {
     "name": "stdout",
     "output_type": "stream",
     "text": [
      "114621/114621 [==============================] - 0s 1us/step\n",
      "Model: \"sequential_23\"\n",
      "_________________________________________________________________\n",
      "Layer (type)                 Output Shape              Param #   \n",
      "=================================================================\n",
      "dense_63 (Dense)             (None, 50)                4650      \n",
      "_________________________________________________________________\n",
      "dense_64 (Dense)             (None, 50)                2550      \n",
      "_________________________________________________________________\n",
      "dense_65 (Dense)             (None, 50)                2550      \n",
      "_________________________________________________________________\n",
      "dense_66 (Dense)             (None, 50)                2550      \n",
      "_________________________________________________________________\n",
      "dense_67 (Dense)             (None, 1)                 51        \n",
      "=================================================================\n",
      "Total params: 12,351\n",
      "Trainable params: 12,351\n",
      "Non-trainable params: 0\n",
      "_________________________________________________________________\n",
      "Test loss: 0.4387\n",
      "Test accuracy: 0.8397\n"
     ]
    }
   ],
   "source": [
    "# Evaluate model on test data\n",
    "score = model5.evaluate(Xtest, Ytest, batch_size = batch_size)\n",
    "\n",
    "model5.summary()\n",
    "\n",
    "print('Test loss: %.4f' % score[0])\n",
    "print('Test accuracy: %.4f' % score[1])"
   ]
  },
  {
   "cell_type": "code",
   "execution_count": null,
   "metadata": {},
   "outputs": [],
   "source": [
    "plot_results(history5)"
   ]
  },
  {
   "cell_type": "markdown",
   "metadata": {},
   "source": [
    "# Part 16: Batch normalization\n",
    "\n",
    "Now add batch normalization after each dense layer. Remember to import BatchNormalization from keras.layers. \n",
    "\n",
    "See https://keras.io/layers/normalization/ for information about how to call the function.\n",
    "\n",
    "Question 18: Why is batch normalization important when training deep networks?"
   ]
  },
  {
   "cell_type": "markdown",
   "metadata": {},
   "source": [
    "### 2 layers, 20 nodes, class weights, batch normalization"
   ]
  },
  {
   "cell_type": "code",
   "execution_count": 75,
   "metadata": {
    "scrolled": true
   },
   "outputs": [
    {
     "name": "stdout",
     "output_type": "stream",
     "text": [
      "Train on 534896 samples, validate on 114620 samples\n",
      "Epoch 1/20\n",
      " - 1s - loss: 2.0438 - accuracy: 0.7070 - val_loss: 0.5663 - val_accuracy: 0.8509\n",
      "Epoch 2/20\n",
      " - 1s - loss: 1.5153 - accuracy: 0.7542 - val_loss: 0.6108 - val_accuracy: 0.8755\n",
      "Epoch 3/20\n",
      " - 1s - loss: 1.5710 - accuracy: 0.7494 - val_loss: 0.4918 - val_accuracy: 0.8774\n",
      "Epoch 4/20\n",
      " - 1s - loss: 1.4757 - accuracy: 0.7588 - val_loss: 0.6036 - val_accuracy: 0.8756\n",
      "Epoch 5/20\n",
      " - 1s - loss: 1.5553 - accuracy: 0.7585 - val_loss: 0.7439 - val_accuracy: 0.8541\n",
      "Epoch 6/20\n",
      " - 1s - loss: 0.8713 - accuracy: 0.8227 - val_loss: 0.6331 - val_accuracy: 0.8572\n",
      "Epoch 7/20\n",
      " - 1s - loss: 0.6944 - accuracy: 0.8558 - val_loss: 0.4273 - val_accuracy: 0.8551\n",
      "Epoch 8/20\n",
      " - 1s - loss: 0.2469 - accuracy: 0.8979 - val_loss: 0.1879 - val_accuracy: 0.9054\n",
      "Epoch 9/20\n",
      " - 1s - loss: 0.1837 - accuracy: 0.9033 - val_loss: 0.1815 - val_accuracy: 0.9053\n",
      "Epoch 10/20\n",
      " - 1s - loss: 0.1798 - accuracy: 0.9040 - val_loss: 0.1786 - val_accuracy: 0.9051\n",
      "Epoch 11/20\n",
      " - 1s - loss: 0.1773 - accuracy: 0.9042 - val_loss: 0.1766 - val_accuracy: 0.9049\n",
      "Epoch 12/20\n",
      " - 1s - loss: 0.1759 - accuracy: 0.9042 - val_loss: 0.1752 - val_accuracy: 0.9048\n",
      "Epoch 13/20\n",
      " - 1s - loss: 0.1748 - accuracy: 0.9044 - val_loss: 0.1742 - val_accuracy: 0.9051\n",
      "Epoch 14/20\n",
      " - 1s - loss: 0.1740 - accuracy: 0.9046 - val_loss: 0.1734 - val_accuracy: 0.9053\n",
      "Epoch 15/20\n",
      " - 1s - loss: 0.1732 - accuracy: 0.9048 - val_loss: 0.1726 - val_accuracy: 0.9054\n",
      "Epoch 16/20\n",
      " - 1s - loss: 0.1724 - accuracy: 0.9050 - val_loss: 0.1719 - val_accuracy: 0.9056\n",
      "Epoch 17/20\n",
      " - 1s - loss: 0.1719 - accuracy: 0.9053 - val_loss: 0.1714 - val_accuracy: 0.9058\n",
      "Epoch 18/20\n",
      " - 1s - loss: 0.1711 - accuracy: 0.9055 - val_loss: 0.1707 - val_accuracy: 0.9062\n",
      "Epoch 19/20\n",
      " - 1s - loss: 0.1706 - accuracy: 0.9058 - val_loss: 0.1702 - val_accuracy: 0.9064\n",
      "Epoch 20/20\n",
      " - 1s - loss: 0.1700 - accuracy: 0.9061 - val_loss: 0.1695 - val_accuracy: 0.9066\n"
     ]
    }
   ],
   "source": [
    "# Setup some training parameters\n",
    "batch_size = 10000\n",
    "epochs = 20\n",
    "input_shape = Xtrain.shape[1:]\n",
    "n_layers = 2\n",
    "n_nodes = 20\n",
    "\n",
    "# Build and train model\n",
    "model6 = build_DNN(input_shape, n_layers, n_nodes, use_bn = True)\n",
    "\n",
    "history6 = model6.fit(Xtrain, Ytrain, batch_size = batch_size, epochs = epochs, verbose = 2, validation_data = (Xval, Yval), class_weight = class_weights)"
   ]
  },
  {
   "cell_type": "code",
   "execution_count": 74,
   "metadata": {},
   "outputs": [
    {
     "name": "stdout",
     "output_type": "stream",
     "text": [
      "114621/114621 [==============================] - 0s 1us/step\n",
      "Test loss: 0.1575\n",
      "Test accuracy: 0.1973\n"
     ]
    }
   ],
   "source": [
    "# Evaluate model on test data\n",
    "score = model6.evaluate(Xtest, Ytest, batch_size = batch_size)\n",
    "\n",
    "print('Test loss: %.4f' % score[0])\n",
    "print('Test accuracy: %.4f' % score[1])"
   ]
  },
  {
   "cell_type": "code",
   "execution_count": null,
   "metadata": {},
   "outputs": [],
   "source": [
    "plot_results(history6)"
   ]
  },
  {
   "cell_type": "markdown",
   "metadata": {},
   "source": [
    "# Part 17: Activation function\n",
    "\n",
    "Try changing the activation function in each layer from sigmoid to ReLU, write down the test accuracy.\n",
    "\n",
    "Note: the last layer should still have a sigmoid activation function."
   ]
  },
  {
   "cell_type": "markdown",
   "metadata": {},
   "source": [
    "### 2 layers, 20 nodes, class weights, ReLU, no batch normalization"
   ]
  },
  {
   "cell_type": "code",
   "execution_count": 76,
   "metadata": {
    "scrolled": true
   },
   "outputs": [
    {
     "name": "stdout",
     "output_type": "stream",
     "text": [
      "Train on 534896 samples, validate on 114620 samples\n",
      "Epoch 1/20\n",
      " - 1s - loss: 0.6482 - accuracy: 0.7180 - val_loss: 0.5170 - val_accuracy: 0.8522\n",
      "Epoch 2/20\n",
      " - 1s - loss: 0.4352 - accuracy: 0.8581 - val_loss: 0.3663 - val_accuracy: 0.8635\n",
      "Epoch 3/20\n",
      " - 1s - loss: 0.3226 - accuracy: 0.8682 - val_loss: 0.2883 - val_accuracy: 0.8733\n",
      "Epoch 4/20\n",
      " - 1s - loss: 0.2664 - accuracy: 0.8765 - val_loss: 0.2502 - val_accuracy: 0.8794\n",
      "Epoch 5/20\n",
      " - 1s - loss: 0.2380 - accuracy: 0.8825 - val_loss: 0.2296 - val_accuracy: 0.8861\n",
      "Epoch 6/20\n",
      " - 1s - loss: 0.2219 - accuracy: 0.8900 - val_loss: 0.2171 - val_accuracy: 0.8930\n",
      "Epoch 7/20\n",
      " - 1s - loss: 0.2115 - accuracy: 0.8945 - val_loss: 0.2086 - val_accuracy: 0.8968\n",
      "Epoch 8/20\n",
      " - 1s - loss: 0.2042 - accuracy: 0.8977 - val_loss: 0.2024 - val_accuracy: 0.9005\n",
      "Epoch 9/20\n",
      " - 1s - loss: 0.1988 - accuracy: 0.9010 - val_loss: 0.1977 - val_accuracy: 0.9025\n",
      "Epoch 10/20\n",
      " - 1s - loss: 0.1946 - accuracy: 0.9029 - val_loss: 0.1939 - val_accuracy: 0.9049\n",
      "Epoch 11/20\n",
      " - 1s - loss: 0.1912 - accuracy: 0.9045 - val_loss: 0.1908 - val_accuracy: 0.9071\n",
      "Epoch 12/20\n",
      " - 1s - loss: 0.1883 - accuracy: 0.9067 - val_loss: 0.1881 - val_accuracy: 0.9082\n",
      "Epoch 13/20\n",
      " - 1s - loss: 0.1858 - accuracy: 0.9076 - val_loss: 0.1859 - val_accuracy: 0.9096\n",
      "Epoch 14/20\n",
      " - 1s - loss: 0.1838 - accuracy: 0.9091 - val_loss: 0.1840 - val_accuracy: 0.9103\n",
      "Epoch 15/20\n",
      " - 1s - loss: 0.1820 - accuracy: 0.9091 - val_loss: 0.1823 - val_accuracy: 0.9104\n",
      "Epoch 16/20\n",
      " - 1s - loss: 0.1804 - accuracy: 0.9096 - val_loss: 0.1808 - val_accuracy: 0.9106\n",
      "Epoch 17/20\n",
      " - 1s - loss: 0.1790 - accuracy: 0.9098 - val_loss: 0.1795 - val_accuracy: 0.9108\n",
      "Epoch 18/20\n",
      " - 1s - loss: 0.1777 - accuracy: 0.9101 - val_loss: 0.1783 - val_accuracy: 0.9110\n",
      "Epoch 19/20\n",
      " - 1s - loss: 0.1766 - accuracy: 0.9104 - val_loss: 0.1773 - val_accuracy: 0.9114\n",
      "Epoch 20/20\n",
      " - 1s - loss: 0.1756 - accuracy: 0.9110 - val_loss: 0.1764 - val_accuracy: 0.9120\n"
     ]
    }
   ],
   "source": [
    "# Setup some training parameters\n",
    "batch_size = 10000\n",
    "epochs = 20\n",
    "input_shape = Xtrain.shape[1:]\n",
    "n_layers = 2\n",
    "n_nodes = 20\n",
    "act_fun = 'relu'\n",
    "\n",
    "# Build and train model\n",
    "model7 = build_DNN(input_shape, n_layers, n_nodes, act_fun=act_fun)\n",
    "\n",
    "history7 = model7.fit(Xtrain, Ytrain, batch_size = batch_size, epochs = epochs, verbose = 2, validation_data = (Xval, Yval), class_weight = class_weights)"
   ]
  },
  {
   "cell_type": "code",
   "execution_count": 77,
   "metadata": {},
   "outputs": [
    {
     "name": "stdout",
     "output_type": "stream",
     "text": [
      "114621/114621 [==============================] - 0s 1us/step\n",
      "Test loss: 0.1763\n",
      "Test accuracy: 0.9112\n"
     ]
    }
   ],
   "source": [
    "# Evaluate model on test data\n",
    "score = model7.evaluate(Xtest, Ytest, batch_size = batch_size)\n",
    "\n",
    "print('Test loss: %.4f' % score[0])\n",
    "print('Test accuracy: %.4f' % score[1])"
   ]
  },
  {
   "cell_type": "code",
   "execution_count": null,
   "metadata": {},
   "outputs": [],
   "source": [
    "plot_results(history7)"
   ]
  },
  {
   "cell_type": "markdown",
   "metadata": {},
   "source": [
    "# Part 18: Optimizer\n",
    "\n",
    "Try changing the optimizer from SGD to Adam (with learning rate 0.1 as before). Remember to import the Adam optimizer from keras.optimizers. \n",
    "\n",
    "https://keras.io/optimizers/\n"
   ]
  },
  {
   "cell_type": "markdown",
   "metadata": {},
   "source": [
    "### 2 layers, 20 nodes, class weights, Adam optimizer, no batch normalization, sigmoid activations"
   ]
  },
  {
   "cell_type": "code",
   "execution_count": 79,
   "metadata": {
    "scrolled": true
   },
   "outputs": [
    {
     "name": "stdout",
     "output_type": "stream",
     "text": [
      "Train on 534896 samples, validate on 114620 samples\n",
      "Epoch 1/20\n",
      " - 1s - loss: 0.2643 - accuracy: 0.8637 - val_loss: 0.1804 - val_accuracy: 0.9062\n",
      "Epoch 2/20\n",
      " - 1s - loss: 0.1698 - accuracy: 0.9121 - val_loss: 0.1626 - val_accuracy: 0.9144\n",
      "Epoch 3/20\n",
      " - 1s - loss: 0.1600 - accuracy: 0.9164 - val_loss: 0.1563 - val_accuracy: 0.9173\n",
      "Epoch 4/20\n",
      " - 1s - loss: 0.1546 - accuracy: 0.9179 - val_loss: 0.1520 - val_accuracy: 0.9185\n",
      "Epoch 5/20\n",
      " - 1s - loss: 0.1509 - accuracy: 0.9189 - val_loss: 0.1489 - val_accuracy: 0.9198\n",
      "Epoch 6/20\n",
      " - 1s - loss: 0.1479 - accuracy: 0.9198 - val_loss: 0.1460 - val_accuracy: 0.9211\n",
      "Epoch 7/20\n",
      " - 1s - loss: 0.1452 - accuracy: 0.9207 - val_loss: 0.1433 - val_accuracy: 0.9226\n",
      "Epoch 8/20\n",
      " - 1s - loss: 0.1429 - accuracy: 0.9224 - val_loss: 0.1412 - val_accuracy: 0.9222\n",
      "Epoch 9/20\n",
      " - 1s - loss: 0.1407 - accuracy: 0.9243 - val_loss: 0.1390 - val_accuracy: 0.9261\n",
      "Epoch 10/20\n",
      " - 1s - loss: 0.1386 - accuracy: 0.9265 - val_loss: 0.1367 - val_accuracy: 0.9277\n",
      "Epoch 11/20\n",
      " - 1s - loss: 0.1370 - accuracy: 0.9275 - val_loss: 0.1360 - val_accuracy: 0.9298\n",
      "Epoch 12/20\n",
      " - 1s - loss: 0.1351 - accuracy: 0.9291 - val_loss: 0.1335 - val_accuracy: 0.9287\n",
      "Epoch 13/20\n",
      " - 1s - loss: 0.1333 - accuracy: 0.9305 - val_loss: 0.1322 - val_accuracy: 0.9342\n",
      "Epoch 14/20\n",
      " - 1s - loss: 0.1319 - accuracy: 0.9310 - val_loss: 0.1313 - val_accuracy: 0.9324\n",
      "Epoch 15/20\n",
      " - 1s - loss: 0.1303 - accuracy: 0.9323 - val_loss: 0.1287 - val_accuracy: 0.9332\n",
      "Epoch 16/20\n",
      " - 1s - loss: 0.1288 - accuracy: 0.9333 - val_loss: 0.1276 - val_accuracy: 0.9352\n",
      "Epoch 17/20\n",
      " - 1s - loss: 0.1273 - accuracy: 0.9343 - val_loss: 0.1250 - val_accuracy: 0.9357\n",
      "Epoch 18/20\n",
      " - 1s - loss: 0.1256 - accuracy: 0.9352 - val_loss: 0.1253 - val_accuracy: 0.9323\n",
      "Epoch 19/20\n",
      " - 1s - loss: 0.1244 - accuracy: 0.9359 - val_loss: 0.1229 - val_accuracy: 0.9363\n",
      "Epoch 20/20\n",
      " - 1s - loss: 0.1230 - accuracy: 0.9367 - val_loss: 0.1211 - val_accuracy: 0.9389\n"
     ]
    }
   ],
   "source": [
    "# Setup some training parameters\n",
    "batch_size = 10000\n",
    "epochs = 20\n",
    "input_shape = Xtrain.shape[1:]\n",
    "n_layers = 2\n",
    "n_nodes = 20\n",
    "\n",
    "# Build and train model\n",
    "model8 = build_DNN(input_shape, n_layers, n_nodes, optimizer = 'adam')\n",
    "\n",
    "history8 = model8.fit(Xtrain, Ytrain, batch_size = batch_size, epochs = epochs, verbose = 2, validation_data = (Xval, Yval), class_weight = class_weights)"
   ]
  },
  {
   "cell_type": "code",
   "execution_count": 80,
   "metadata": {},
   "outputs": [
    {
     "name": "stdout",
     "output_type": "stream",
     "text": [
      "114621/114621 [==============================] - 0s 1us/step\n",
      "Test loss: 0.1225\n",
      "Test accuracy: 0.9379\n"
     ]
    }
   ],
   "source": [
    "# Evaluate model on test data\n",
    "score = model8.evaluate(Xtest, Ytest, batch_size = batch_size)\n",
    "\n",
    "print('Test loss: %.4f' % score[0])\n",
    "print('Test accuracy: %.4f' % score[1])"
   ]
  },
  {
   "cell_type": "code",
   "execution_count": null,
   "metadata": {},
   "outputs": [],
   "source": [
    "plot_results(history8)"
   ]
  },
  {
   "cell_type": "markdown",
   "metadata": {},
   "source": [
    "# Part 19: Dropout regularization\n",
    "\n",
    "Dropout is a type of regularization that can improve accuracy for validation and test data. \n",
    "\n",
    "Add a Dropout layer after each Dense layer (but not after the final dense layer), with a dropout probability of 50%. Remember to first import the Dropout layer from keras.layers\n",
    "\n",
    "See https://keras.io/layers/core/ for how the Dropout layer works.\n",
    "\n",
    "---\n",
    "\n",
    "Question 19: How does the validation accuracy change when adding dropout?\n",
    "\n",
    "Question 20: How does the test accuracy change when adding dropout?"
   ]
  },
  {
   "cell_type": "markdown",
   "metadata": {},
   "source": [
    "### 2 layers, 20 nodes, class weights, dropout, SGD optimizer, no batch normalization, sigmoid activations"
   ]
  },
  {
   "cell_type": "code",
   "execution_count": 81,
   "metadata": {
    "scrolled": true
   },
   "outputs": [
    {
     "name": "stdout",
     "output_type": "stream",
     "text": [
      "Train on 534896 samples, validate on 114620 samples\n",
      "Epoch 1/20\n",
      " - 1s - loss: 0.6554 - accuracy: 0.6168 - val_loss: 0.5023 - val_accuracy: 0.8420\n",
      "Epoch 2/20\n",
      " - 1s - loss: 0.5080 - accuracy: 0.8007 - val_loss: 0.4446 - val_accuracy: 0.8420\n",
      "Epoch 3/20\n",
      " - 1s - loss: 0.4723 - accuracy: 0.8298 - val_loss: 0.4286 - val_accuracy: 0.8420\n",
      "Epoch 4/20\n",
      " - 1s - loss: 0.4598 - accuracy: 0.8363 - val_loss: 0.4225 - val_accuracy: 0.8420\n",
      "Epoch 5/20\n",
      " - 1s - loss: 0.4530 - accuracy: 0.8384 - val_loss: 0.4193 - val_accuracy: 0.8420\n",
      "Epoch 6/20\n",
      " - 1s - loss: 0.4498 - accuracy: 0.8393 - val_loss: 0.4170 - val_accuracy: 0.8420\n",
      "Epoch 7/20\n",
      " - 1s - loss: 0.4466 - accuracy: 0.8396 - val_loss: 0.4149 - val_accuracy: 0.8420\n",
      "Epoch 8/20\n",
      " - 1s - loss: 0.4438 - accuracy: 0.8401 - val_loss: 0.4130 - val_accuracy: 0.8420\n",
      "Epoch 9/20\n",
      " - 1s - loss: 0.4418 - accuracy: 0.8403 - val_loss: 0.4110 - val_accuracy: 0.8420\n",
      "Epoch 10/20\n",
      " - 1s - loss: 0.4392 - accuracy: 0.8402 - val_loss: 0.4091 - val_accuracy: 0.8420\n",
      "Epoch 11/20\n",
      " - 1s - loss: 0.4365 - accuracy: 0.8404 - val_loss: 0.4072 - val_accuracy: 0.8420\n",
      "Epoch 12/20\n",
      " - 1s - loss: 0.4347 - accuracy: 0.8404 - val_loss: 0.4053 - val_accuracy: 0.8420\n",
      "Epoch 13/20\n",
      " - 1s - loss: 0.4327 - accuracy: 0.8404 - val_loss: 0.4034 - val_accuracy: 0.8420\n",
      "Epoch 14/20\n",
      " - 1s - loss: 0.4310 - accuracy: 0.8405 - val_loss: 0.4015 - val_accuracy: 0.8420\n",
      "Epoch 15/20\n",
      " - 1s - loss: 0.4281 - accuracy: 0.8406 - val_loss: 0.3996 - val_accuracy: 0.8420\n",
      "Epoch 16/20\n",
      " - 1s - loss: 0.4263 - accuracy: 0.8405 - val_loss: 0.3977 - val_accuracy: 0.8420\n",
      "Epoch 17/20\n",
      " - 1s - loss: 0.4245 - accuracy: 0.8406 - val_loss: 0.3957 - val_accuracy: 0.8420\n",
      "Epoch 18/20\n",
      " - 1s - loss: 0.4224 - accuracy: 0.8407 - val_loss: 0.3938 - val_accuracy: 0.8420\n",
      "Epoch 19/20\n",
      " - 1s - loss: 0.4200 - accuracy: 0.8407 - val_loss: 0.3918 - val_accuracy: 0.8420\n",
      "Epoch 20/20\n",
      " - 1s - loss: 0.4186 - accuracy: 0.8407 - val_loss: 0.3897 - val_accuracy: 0.8420\n"
     ]
    }
   ],
   "source": [
    "# Setup some training parameters\n",
    "batch_size = 10000\n",
    "epochs = 20\n",
    "input_shape = Xtrain.shape[1:]\n",
    "n_layers = 2\n",
    "n_nodes = 20\n",
    "\n",
    "# Build and train model\n",
    "model9 = build_DNN(input_shape, n_layers, n_nodes, use_dropout=True, optimizer = 'sgd')\n",
    "\n",
    "history9 = model9.fit(Xtrain, Ytrain, batch_size = batch_size, epochs = epochs, verbose = 2, validation_data = (Xval, Yval), class_weight = class_weights)"
   ]
  },
  {
   "cell_type": "code",
   "execution_count": 82,
   "metadata": {},
   "outputs": [
    {
     "name": "stdout",
     "output_type": "stream",
     "text": [
      "114621/114621 [==============================] - 0s 1us/step\n",
      "Test loss: 0.3935\n",
      "Test accuracy: 0.8397\n"
     ]
    }
   ],
   "source": [
    "# Evaluate model on test data\n",
    "score = model9.evaluate(Xtest, Ytest, batch_size = batch_size)\n",
    "\n",
    "print('Test loss: %.4f' % score[0])\n",
    "print('Test accuracy: %.4f' % score[1])"
   ]
  },
  {
   "cell_type": "code",
   "execution_count": null,
   "metadata": {},
   "outputs": [],
   "source": [
    "plot_results(history9)"
   ]
  },
  {
   "cell_type": "markdown",
   "metadata": {},
   "source": [
    "# Part 20: Improving performance\n",
    "\n",
    "Spend some time (30 - 90 minutes) playing with the network architecture (number of layers, number of nodes per layer, activation function) and other hyper parameters (optimizer, learning rate, batch size, number of epochs, degree of regularization). For example, try a much deeper network. How much does the training time increase for a network with 10 layers?\n",
    "\n",
    "Question 21: How high classification accuracy can you achieve for the test data? What is your best configuration?"
   ]
  },
  {
   "cell_type": "code",
   "execution_count": 84,
   "metadata": {
    "scrolled": true
   },
   "outputs": [
    {
     "name": "stdout",
     "output_type": "stream",
     "text": [
      "Train on 534896 samples, validate on 114620 samples\n",
      "Epoch 1/100\n",
      " - 1s - loss: 0.2039 - accuracy: 0.9049 - val_loss: 0.1518 - val_accuracy: 0.9188\n",
      "Epoch 2/100\n",
      " - 1s - loss: 0.1481 - accuracy: 0.9190 - val_loss: 0.1456 - val_accuracy: 0.9207\n",
      "Epoch 3/100\n",
      " - 1s - loss: 0.1442 - accuracy: 0.9213 - val_loss: 0.1437 - val_accuracy: 0.9223\n",
      "Epoch 4/100\n",
      " - 1s - loss: 0.1416 - accuracy: 0.9227 - val_loss: 0.1389 - val_accuracy: 0.9263\n",
      "Epoch 5/100\n",
      " - 1s - loss: 0.1389 - accuracy: 0.9250 - val_loss: 0.1361 - val_accuracy: 0.9263\n",
      "Epoch 6/100\n",
      " - 1s - loss: 0.1373 - accuracy: 0.9258 - val_loss: 0.1337 - val_accuracy: 0.9300\n",
      "Epoch 7/100\n",
      " - 1s - loss: 0.1350 - accuracy: 0.9277 - val_loss: 0.1318 - val_accuracy: 0.9310\n",
      "Epoch 8/100\n",
      " - 1s - loss: 0.1326 - accuracy: 0.9297 - val_loss: 0.1286 - val_accuracy: 0.9322\n",
      "Epoch 9/100\n",
      " - 1s - loss: 0.1288 - accuracy: 0.9322 - val_loss: 0.1253 - val_accuracy: 0.9342\n",
      "Epoch 10/100\n",
      " - 1s - loss: 0.1261 - accuracy: 0.9342 - val_loss: 0.1236 - val_accuracy: 0.9355\n",
      "Epoch 11/100\n",
      " - 1s - loss: 0.1237 - accuracy: 0.9356 - val_loss: 0.1187 - val_accuracy: 0.9405\n",
      "Epoch 12/100\n",
      " - 1s - loss: 0.1205 - accuracy: 0.9371 - val_loss: 0.1175 - val_accuracy: 0.9396\n",
      "Epoch 13/100\n",
      " - 1s - loss: 0.1187 - accuracy: 0.9380 - val_loss: 0.1157 - val_accuracy: 0.9405\n",
      "Epoch 14/100\n",
      " - 1s - loss: 0.1168 - accuracy: 0.9392 - val_loss: 0.1145 - val_accuracy: 0.9420\n",
      "Epoch 15/100\n",
      " - 1s - loss: 0.1158 - accuracy: 0.9395 - val_loss: 0.1141 - val_accuracy: 0.9381\n",
      "Epoch 16/100\n",
      " - 1s - loss: 0.1157 - accuracy: 0.9384 - val_loss: 0.1128 - val_accuracy: 0.9424\n",
      "Epoch 17/100\n",
      " - 1s - loss: 0.1143 - accuracy: 0.9401 - val_loss: 0.1107 - val_accuracy: 0.9414\n",
      "Epoch 18/100\n",
      " - 1s - loss: 0.1133 - accuracy: 0.9400 - val_loss: 0.1125 - val_accuracy: 0.9390\n",
      "Epoch 19/100\n",
      " - 1s - loss: 0.1133 - accuracy: 0.9400 - val_loss: 0.1136 - val_accuracy: 0.9320\n",
      "Epoch 20/100\n",
      " - 1s - loss: 0.1118 - accuracy: 0.9411 - val_loss: 0.1090 - val_accuracy: 0.9440\n",
      "Epoch 21/100\n",
      " - 1s - loss: 0.1117 - accuracy: 0.9409 - val_loss: 0.1092 - val_accuracy: 0.9435\n",
      "Epoch 22/100\n",
      " - 1s - loss: 0.1119 - accuracy: 0.9406 - val_loss: 0.1087 - val_accuracy: 0.9418\n",
      "Epoch 23/100\n",
      " - 1s - loss: 0.1131 - accuracy: 0.9388 - val_loss: 0.1128 - val_accuracy: 0.9366\n",
      "Epoch 24/100\n",
      " - 1s - loss: 0.1106 - accuracy: 0.9411 - val_loss: 0.1085 - val_accuracy: 0.9411\n",
      "Epoch 25/100\n",
      " - 1s - loss: 0.1104 - accuracy: 0.9413 - val_loss: 0.1080 - val_accuracy: 0.9439\n",
      "Epoch 26/100\n",
      " - 1s - loss: 0.1107 - accuracy: 0.9409 - val_loss: 0.1098 - val_accuracy: 0.9411\n",
      "Epoch 27/100\n",
      " - 1s - loss: 0.1104 - accuracy: 0.9415 - val_loss: 0.1078 - val_accuracy: 0.9428\n",
      "Epoch 28/100\n",
      " - 1s - loss: 0.1094 - accuracy: 0.9418 - val_loss: 0.1064 - val_accuracy: 0.9444\n",
      "Epoch 29/100\n",
      " - 1s - loss: 0.1092 - accuracy: 0.9419 - val_loss: 0.1090 - val_accuracy: 0.9417\n",
      "Epoch 30/100\n",
      " - 1s - loss: 0.1090 - accuracy: 0.9421 - val_loss: 0.1062 - val_accuracy: 0.9448\n",
      "Epoch 31/100\n",
      " - 1s - loss: 0.1090 - accuracy: 0.9426 - val_loss: 0.1062 - val_accuracy: 0.9428\n",
      "Epoch 32/100\n",
      " - 1s - loss: 0.1086 - accuracy: 0.9427 - val_loss: 0.1067 - val_accuracy: 0.9453\n",
      "Epoch 33/100\n",
      " - 1s - loss: 0.1094 - accuracy: 0.9417 - val_loss: 0.1068 - val_accuracy: 0.9432\n",
      "Epoch 34/100\n",
      " - 1s - loss: 0.1098 - accuracy: 0.9408 - val_loss: 0.1064 - val_accuracy: 0.9443\n",
      "Epoch 35/100\n",
      " - 1s - loss: 0.1092 - accuracy: 0.9411 - val_loss: 0.1064 - val_accuracy: 0.9431\n",
      "Epoch 36/100\n",
      " - 1s - loss: 0.1082 - accuracy: 0.9425 - val_loss: 0.1076 - val_accuracy: 0.9405\n",
      "Epoch 37/100\n",
      " - 1s - loss: 0.1077 - accuracy: 0.9431 - val_loss: 0.1067 - val_accuracy: 0.9437\n",
      "Epoch 38/100\n",
      " - 1s - loss: 0.1082 - accuracy: 0.9421 - val_loss: 0.1077 - val_accuracy: 0.9417\n",
      "Epoch 39/100\n",
      " - 1s - loss: 0.1072 - accuracy: 0.9432 - val_loss: 0.1046 - val_accuracy: 0.9444\n",
      "Epoch 40/100\n",
      " - 1s - loss: 0.1076 - accuracy: 0.9429 - val_loss: 0.1047 - val_accuracy: 0.9448\n",
      "Epoch 41/100\n",
      " - 1s - loss: 0.1071 - accuracy: 0.9430 - val_loss: 0.1082 - val_accuracy: 0.9414\n",
      "Epoch 42/100\n",
      " - 1s - loss: 0.1082 - accuracy: 0.9423 - val_loss: 0.1085 - val_accuracy: 0.9416\n",
      "Epoch 43/100\n",
      " - 1s - loss: 0.1074 - accuracy: 0.9426 - val_loss: 0.1039 - val_accuracy: 0.9450\n",
      "Epoch 44/100\n",
      " - 1s - loss: 0.1066 - accuracy: 0.9432 - val_loss: 0.1053 - val_accuracy: 0.9433\n",
      "Epoch 45/100\n",
      " - 1s - loss: 0.1076 - accuracy: 0.9425 - val_loss: 0.1061 - val_accuracy: 0.9424\n",
      "Epoch 46/100\n",
      " - 1s - loss: 0.1067 - accuracy: 0.9425 - val_loss: 0.1055 - val_accuracy: 0.9421\n",
      "Epoch 47/100\n",
      " - 1s - loss: 0.1062 - accuracy: 0.9436 - val_loss: 0.1098 - val_accuracy: 0.9336\n",
      "Epoch 48/100\n",
      " - 1s - loss: 0.1071 - accuracy: 0.9424 - val_loss: 0.1050 - val_accuracy: 0.9452\n",
      "Epoch 49/100\n",
      " - 1s - loss: 0.1082 - accuracy: 0.9423 - val_loss: 0.1063 - val_accuracy: 0.9427\n",
      "Epoch 50/100\n",
      " - 1s - loss: 0.1080 - accuracy: 0.9418 - val_loss: 0.1130 - val_accuracy: 0.9318\n",
      "Epoch 51/100\n",
      " - 1s - loss: 0.1076 - accuracy: 0.9416 - val_loss: 0.1029 - val_accuracy: 0.9459\n",
      "Epoch 52/100\n",
      " - 1s - loss: 0.1059 - accuracy: 0.9438 - val_loss: 0.1053 - val_accuracy: 0.9401\n",
      "Epoch 53/100\n",
      " - 1s - loss: 0.1051 - accuracy: 0.9448 - val_loss: 0.1051 - val_accuracy: 0.9426\n",
      "Epoch 54/100\n",
      " - 1s - loss: 0.1056 - accuracy: 0.9436 - val_loss: 0.1076 - val_accuracy: 0.9386\n",
      "Epoch 55/100\n",
      " - 1s - loss: 0.1072 - accuracy: 0.9425 - val_loss: 0.1022 - val_accuracy: 0.9460\n",
      "Epoch 56/100\n",
      " - 1s - loss: 0.1072 - accuracy: 0.9437 - val_loss: 0.1052 - val_accuracy: 0.9438\n",
      "Epoch 57/100\n",
      " - 1s - loss: 0.1064 - accuracy: 0.9436 - val_loss: 0.1043 - val_accuracy: 0.9441\n",
      "Epoch 58/100\n",
      " - 1s - loss: 0.1058 - accuracy: 0.9437 - val_loss: 0.1019 - val_accuracy: 0.9471\n",
      "Epoch 59/100\n",
      " - 1s - loss: 0.1047 - accuracy: 0.9444 - val_loss: 0.1040 - val_accuracy: 0.9442\n",
      "Epoch 60/100\n",
      " - 1s - loss: 0.1074 - accuracy: 0.9416 - val_loss: 0.1023 - val_accuracy: 0.9459\n",
      "Epoch 61/100\n",
      " - 1s - loss: 0.1045 - accuracy: 0.9450 - val_loss: 0.1033 - val_accuracy: 0.9451\n",
      "Epoch 62/100\n",
      " - 1s - loss: 0.1045 - accuracy: 0.9440 - val_loss: 0.1021 - val_accuracy: 0.9464\n",
      "Epoch 63/100\n",
      " - 1s - loss: 0.1047 - accuracy: 0.9438 - val_loss: 0.1023 - val_accuracy: 0.9446\n",
      "Epoch 64/100\n",
      " - 1s - loss: 0.1048 - accuracy: 0.9441 - val_loss: 0.1023 - val_accuracy: 0.9456\n",
      "Epoch 65/100\n",
      " - 1s - loss: 0.1054 - accuracy: 0.9434 - val_loss: 0.1053 - val_accuracy: 0.9374\n",
      "Epoch 66/100\n",
      " - 1s - loss: 0.1058 - accuracy: 0.9431 - val_loss: 0.1023 - val_accuracy: 0.9462\n",
      "Epoch 67/100\n",
      " - 1s - loss: 0.1045 - accuracy: 0.9443 - val_loss: 0.1045 - val_accuracy: 0.9428\n",
      "Epoch 68/100\n",
      " - 1s - loss: 0.1051 - accuracy: 0.9430 - val_loss: 0.1030 - val_accuracy: 0.9460\n",
      "Epoch 69/100\n",
      " - 1s - loss: 0.1036 - accuracy: 0.9454 - val_loss: 0.1045 - val_accuracy: 0.9385\n",
      "Epoch 70/100\n",
      " - 1s - loss: 0.1043 - accuracy: 0.9445 - val_loss: 0.1016 - val_accuracy: 0.9466\n",
      "Epoch 71/100\n",
      " - 1s - loss: 0.1049 - accuracy: 0.9435 - val_loss: 0.1013 - val_accuracy: 0.9461\n",
      "Epoch 72/100\n",
      " - 1s - loss: 0.1034 - accuracy: 0.9457 - val_loss: 0.1068 - val_accuracy: 0.9423\n",
      "Epoch 73/100\n",
      " - 1s - loss: 0.1037 - accuracy: 0.9450 - val_loss: 0.1020 - val_accuracy: 0.9464\n",
      "Epoch 74/100\n",
      " - 1s - loss: 0.1041 - accuracy: 0.9438 - val_loss: 0.1014 - val_accuracy: 0.9466\n",
      "Epoch 75/100\n",
      " - 1s - loss: 0.1033 - accuracy: 0.9452 - val_loss: 0.1023 - val_accuracy: 0.9454\n",
      "Epoch 76/100\n",
      " - 1s - loss: 0.1042 - accuracy: 0.9445 - val_loss: 0.1009 - val_accuracy: 0.9469\n",
      "Epoch 77/100\n",
      " - 1s - loss: 0.1033 - accuracy: 0.9451 - val_loss: 0.1070 - val_accuracy: 0.9375\n",
      "Epoch 78/100\n",
      " - 1s - loss: 0.1051 - accuracy: 0.9438 - val_loss: 0.1051 - val_accuracy: 0.9434\n",
      "Epoch 79/100\n",
      " - 1s - loss: 0.1040 - accuracy: 0.9446 - val_loss: 0.1007 - val_accuracy: 0.9478\n",
      "Epoch 80/100\n",
      " - 1s - loss: 0.1038 - accuracy: 0.9447 - val_loss: 0.1011 - val_accuracy: 0.9471\n",
      "Epoch 81/100\n",
      " - 1s - loss: 0.1052 - accuracy: 0.9429 - val_loss: 0.1018 - val_accuracy: 0.9450\n",
      "Epoch 82/100\n",
      " - 1s - loss: 0.1037 - accuracy: 0.9443 - val_loss: 0.1025 - val_accuracy: 0.9444\n",
      "Epoch 83/100\n",
      " - 1s - loss: 0.1047 - accuracy: 0.9430 - val_loss: 0.1028 - val_accuracy: 0.9424\n",
      "Epoch 84/100\n",
      " - 1s - loss: 0.1042 - accuracy: 0.9441 - val_loss: 0.1014 - val_accuracy: 0.9463\n",
      "Epoch 85/100\n",
      " - 1s - loss: 0.1033 - accuracy: 0.9454 - val_loss: 0.1019 - val_accuracy: 0.9447\n",
      "Epoch 86/100\n",
      " - 1s - loss: 0.1034 - accuracy: 0.9451 - val_loss: 0.1015 - val_accuracy: 0.9475\n"
     ]
    },
    {
     "name": "stdout",
     "output_type": "stream",
     "text": [
      "Epoch 87/100\n",
      " - 1s - loss: 0.1033 - accuracy: 0.9446 - val_loss: 0.1025 - val_accuracy: 0.9427\n",
      "Epoch 88/100\n",
      " - 1s - loss: 0.1030 - accuracy: 0.9451 - val_loss: 0.0994 - val_accuracy: 0.9486\n",
      "Epoch 89/100\n",
      " - 1s - loss: 0.1031 - accuracy: 0.9447 - val_loss: 0.1041 - val_accuracy: 0.9387\n",
      "Epoch 90/100\n",
      " - 1s - loss: 0.1034 - accuracy: 0.9450 - val_loss: 0.1001 - val_accuracy: 0.9477\n",
      "Epoch 91/100\n",
      " - 1s - loss: 0.1026 - accuracy: 0.9453 - val_loss: 0.1010 - val_accuracy: 0.9457\n",
      "Epoch 92/100\n",
      " - 1s - loss: 0.1028 - accuracy: 0.9452 - val_loss: 0.0998 - val_accuracy: 0.9466\n",
      "Epoch 93/100\n",
      " - 1s - loss: 0.1020 - accuracy: 0.9454 - val_loss: 0.1011 - val_accuracy: 0.9482\n",
      "Epoch 94/100\n",
      " - 1s - loss: 0.1028 - accuracy: 0.9453 - val_loss: 0.1010 - val_accuracy: 0.9457\n",
      "Epoch 95/100\n",
      " - 1s - loss: 0.1021 - accuracy: 0.9462 - val_loss: 0.1006 - val_accuracy: 0.9458\n",
      "Epoch 96/100\n",
      " - 1s - loss: 0.1023 - accuracy: 0.9452 - val_loss: 0.1012 - val_accuracy: 0.9455\n",
      "Epoch 97/100\n",
      " - 1s - loss: 0.1022 - accuracy: 0.9449 - val_loss: 0.1001 - val_accuracy: 0.9464\n",
      "Epoch 98/100\n",
      " - 1s - loss: 0.1019 - accuracy: 0.9454 - val_loss: 0.1002 - val_accuracy: 0.9474\n",
      "Epoch 99/100\n",
      " - 1s - loss: 0.1044 - accuracy: 0.9434 - val_loss: 0.1014 - val_accuracy: 0.9443\n",
      "Epoch 100/100\n",
      " - 1s - loss: 0.1042 - accuracy: 0.9439 - val_loss: 0.1033 - val_accuracy: 0.9451\n"
     ]
    }
   ],
   "source": [
    "# Find your best configuration for the DNN\n",
    "batch_size = 10000\n",
    "epochs = 100\n",
    "input_shape = Xtrain.shape[1:]\n",
    "n_layers = 2\n",
    "n_nodes = 20\n",
    "act_fun = 'relu'\n",
    "\n",
    "# Build and train model\n",
    "model10 =  build_DNN(input_shape, n_layers, n_nodes, optimizer = 'adam', act_fun = act_fun)\n",
    "\n",
    "history10 =  model10.fit(Xtrain, Ytrain, batch_size = batch_size, epochs = epochs, verbose = 2, validation_data = (Xval, Yval), class_weight = class_weights)\n",
    "# Build and train DNN\n",
    "\n",
    "\n",
    "\n"
   ]
  },
  {
   "cell_type": "code",
   "execution_count": 86,
   "metadata": {},
   "outputs": [
    {
     "name": "stdout",
     "output_type": "stream",
     "text": [
      "114621/114621 [==============================] - 0s 1us/step\n",
      "Test loss: 0.1057\n",
      "Test accuracy: 0.9435\n"
     ]
    }
   ],
   "source": [
    "# Evaluate DNN on test data\n",
    "score = model10.evaluate(Xtest, Ytest, batch_size = batch_size)\n",
    "\n",
    "print('Test loss: %.4f' % score[0])\n",
    "print('Test accuracy: %.4f' % score[1])"
   ]
  },
  {
   "cell_type": "markdown",
   "metadata": {},
   "source": [
    "# Part 21: Dropout uncertainty\n",
    "\n",
    "Dropout can also be used during testing, to obtain an estimate of the model uncertainty. Since dropout will randomly remove connections, the network will produce different results every time the same (test) data is put into the network. This technique is called Monte Carlo dropout. For more information, see this paper http://proceedings.mlr.press/v48/gal16.pdf\n",
    "\n",
    "To achieve this, we need to redefine the Keras Dropout call by running the cell below, and use 'myDropout' in each call to Dropout, in the cell that defines the DNN.\n",
    "\n",
    "Run the same test data through the trained network 100 times, with dropout turned on. \n",
    "\n",
    "Question 22: What is the mean and the standard deviation of the test accuracy?"
   ]
  },
  {
   "cell_type": "code",
   "execution_count": 90,
   "metadata": {},
   "outputs": [],
   "source": [
    "import keras\n",
    "\n",
    "class myDropout(keras.layers.Dropout):\n",
    "    \"\"\"Applies Dropout to the input.\n",
    "    Dropout consists in randomly setting\n",
    "    a fraction `rate` of input units to 0 at each update during training time,\n",
    "    which helps prevent overfitting.\n",
    "    # Arguments\n",
    "        rate: float between 0 and 1. Fraction of the input units to drop.\n",
    "        noise_shape: 1D integer tensor representing the shape of the\n",
    "            binary dropout mask that will be multiplied with the input.\n",
    "            For instance, if your inputs have shape\n",
    "            `(batch_size, timesteps, features)` and\n",
    "            you want the dropout mask to be the same for all timesteps,\n",
    "            you can use `noise_shape=(batch_size, 1, features)`.\n",
    "        seed: A Python integer to use as random seed.\n",
    "    # References\n",
    "        - [Dropout: A Simple Way to Prevent Neural Networks from Overfitting](\n",
    "           http://www.jmlr.org/papers/volume15/srivastava14a/srivastava14a.pdf)\n",
    "    \"\"\"\n",
    "    def __init__(self, rate, training=True, noise_shape=None, seed=None, **kwargs):\n",
    "        super(myDropout, self).__init__(rate, noise_shape=None, seed=None,**kwargs)\n",
    "        self.training = training\n",
    "\n",
    "        \n",
    "    def call(self, inputs, training=None):\n",
    "        if 0. < self.rate < 1.:\n",
    "            noise_shape = self._get_noise_shape(inputs)\n",
    "\n",
    "            def dropped_inputs():\n",
    "                return K.dropout(inputs, self.rate, noise_shape,\n",
    "                                 seed=self.seed)\n",
    "            if not training: \n",
    "                return K.in_train_phase(dropped_inputs, inputs, training=self.training)\n",
    "            return K.in_train_phase(dropped_inputs, inputs, training=training)\n",
    "        return inputs"
   ]
  },
  {
   "cell_type": "markdown",
   "metadata": {},
   "source": [
    "### Your best config, custom dropout"
   ]
  },
  {
   "cell_type": "code",
   "execution_count": 91,
   "metadata": {
    "scrolled": true
   },
   "outputs": [
    {
     "name": "stdout",
     "output_type": "stream",
     "text": [
      "Train on 687724 samples, validate on 114620 samples\n",
      "Epoch 1/100\n",
      " - 1s - loss: 0.2602 - accuracy: 0.8671 - val_loss: 0.1766 - val_accuracy: 0.9011\n",
      "Epoch 2/100\n",
      " - 1s - loss: 0.1688 - accuracy: 0.9064 - val_loss: 0.1672 - val_accuracy: 0.9100\n",
      "Epoch 3/100\n",
      " - 1s - loss: 0.1632 - accuracy: 0.9119 - val_loss: 0.1614 - val_accuracy: 0.9136\n",
      "Epoch 4/100\n",
      " - 1s - loss: 0.1588 - accuracy: 0.9148 - val_loss: 0.1584 - val_accuracy: 0.9159\n",
      "Epoch 5/100\n",
      " - 1s - loss: 0.1555 - accuracy: 0.9156 - val_loss: 0.1536 - val_accuracy: 0.9165\n",
      "Epoch 6/100\n",
      " - 1s - loss: 0.1545 - accuracy: 0.9159 - val_loss: 0.1514 - val_accuracy: 0.9162\n",
      "Epoch 7/100\n",
      " - 1s - loss: 0.1528 - accuracy: 0.9168 - val_loss: 0.1529 - val_accuracy: 0.9176\n",
      "Epoch 8/100\n",
      " - 1s - loss: 0.1520 - accuracy: 0.9165 - val_loss: 0.1518 - val_accuracy: 0.9171\n",
      "Epoch 9/100\n",
      " - 1s - loss: 0.1505 - accuracy: 0.9163 - val_loss: 0.1512 - val_accuracy: 0.9176\n",
      "Epoch 10/100\n",
      " - 1s - loss: 0.1497 - accuracy: 0.9175 - val_loss: 0.1495 - val_accuracy: 0.9174\n",
      "Epoch 11/100\n",
      " - 1s - loss: 0.1486 - accuracy: 0.9175 - val_loss: 0.1466 - val_accuracy: 0.9178\n",
      "Epoch 12/100\n",
      " - 1s - loss: 0.1472 - accuracy: 0.9185 - val_loss: 0.1483 - val_accuracy: 0.9189\n",
      "Epoch 13/100\n",
      " - 1s - loss: 0.1474 - accuracy: 0.9186 - val_loss: 0.1488 - val_accuracy: 0.9177\n",
      "Epoch 14/100\n",
      " - 1s - loss: 0.1473 - accuracy: 0.9183 - val_loss: 0.1484 - val_accuracy: 0.9199\n",
      "Epoch 15/100\n",
      " - 1s - loss: 0.1467 - accuracy: 0.9189 - val_loss: 0.1455 - val_accuracy: 0.9185\n",
      "Epoch 16/100\n",
      " - 1s - loss: 0.1463 - accuracy: 0.9188 - val_loss: 0.1463 - val_accuracy: 0.9176\n",
      "Epoch 17/100\n",
      " - 1s - loss: 0.1470 - accuracy: 0.9181 - val_loss: 0.1459 - val_accuracy: 0.9184\n",
      "Epoch 18/100\n",
      " - 1s - loss: 0.1454 - accuracy: 0.9187 - val_loss: 0.1462 - val_accuracy: 0.9179\n",
      "Epoch 19/100\n",
      " - 1s - loss: 0.1447 - accuracy: 0.9194 - val_loss: 0.1449 - val_accuracy: 0.9196\n",
      "Epoch 20/100\n",
      " - 1s - loss: 0.1448 - accuracy: 0.9195 - val_loss: 0.1472 - val_accuracy: 0.9205\n",
      "Epoch 21/100\n",
      " - 1s - loss: 0.1447 - accuracy: 0.9186 - val_loss: 0.1447 - val_accuracy: 0.9196\n",
      "Epoch 22/100\n",
      " - 1s - loss: 0.1448 - accuracy: 0.9185 - val_loss: 0.1429 - val_accuracy: 0.9191\n",
      "Epoch 23/100\n",
      " - 1s - loss: 0.1440 - accuracy: 0.9184 - val_loss: 0.1437 - val_accuracy: 0.9188\n",
      "Epoch 24/100\n",
      " - 1s - loss: 0.1438 - accuracy: 0.9198 - val_loss: 0.1440 - val_accuracy: 0.9194\n",
      "Epoch 25/100\n",
      " - 1s - loss: 0.1440 - accuracy: 0.9190 - val_loss: 0.1422 - val_accuracy: 0.9204\n",
      "Epoch 26/100\n",
      " - 1s - loss: 0.1438 - accuracy: 0.9195 - val_loss: 0.1446 - val_accuracy: 0.9193\n",
      "Epoch 27/100\n",
      " - 1s - loss: 0.1436 - accuracy: 0.9196 - val_loss: 0.1434 - val_accuracy: 0.9193\n",
      "Epoch 28/100\n",
      " - 1s - loss: 0.1445 - accuracy: 0.9194 - val_loss: 0.1430 - val_accuracy: 0.9197\n",
      "Epoch 29/100\n",
      " - 1s - loss: 0.1436 - accuracy: 0.9197 - val_loss: 0.1416 - val_accuracy: 0.9199\n",
      "Epoch 30/100\n",
      " - 1s - loss: 0.1440 - accuracy: 0.9197 - val_loss: 0.1432 - val_accuracy: 0.9199\n",
      "Epoch 31/100\n",
      " - 1s - loss: 0.1432 - accuracy: 0.9202 - val_loss: 0.1433 - val_accuracy: 0.9200\n",
      "Epoch 32/100\n",
      " - 1s - loss: 0.1432 - accuracy: 0.9202 - val_loss: 0.1441 - val_accuracy: 0.9199\n",
      "Epoch 33/100\n",
      " - 1s - loss: 0.1429 - accuracy: 0.9204 - val_loss: 0.1432 - val_accuracy: 0.9209\n",
      "Epoch 34/100\n",
      " - 1s - loss: 0.1427 - accuracy: 0.9206 - val_loss: 0.1413 - val_accuracy: 0.9209\n",
      "Epoch 35/100\n",
      " - 1s - loss: 0.1425 - accuracy: 0.9211 - val_loss: 0.1433 - val_accuracy: 0.9218\n",
      "Epoch 36/100\n",
      " - 1s - loss: 0.1431 - accuracy: 0.9201 - val_loss: 0.1439 - val_accuracy: 0.9195\n",
      "Epoch 37/100\n",
      " - 1s - loss: 0.1419 - accuracy: 0.9202 - val_loss: 0.1421 - val_accuracy: 0.9217\n",
      "Epoch 38/100\n",
      " - 1s - loss: 0.1422 - accuracy: 0.9205 - val_loss: 0.1400 - val_accuracy: 0.9211\n",
      "Epoch 39/100\n",
      " - 1s - loss: 0.1412 - accuracy: 0.9211 - val_loss: 0.1406 - val_accuracy: 0.9219\n",
      "Epoch 40/100\n",
      " - 1s - loss: 0.1415 - accuracy: 0.9218 - val_loss: 0.1421 - val_accuracy: 0.9216\n",
      "Epoch 41/100\n",
      " - 1s - loss: 0.1412 - accuracy: 0.9210 - val_loss: 0.1394 - val_accuracy: 0.9219\n",
      "Epoch 42/100\n",
      " - 1s - loss: 0.1416 - accuracy: 0.9215 - val_loss: 0.1394 - val_accuracy: 0.9228\n",
      "Epoch 43/100\n",
      " - 1s - loss: 0.1414 - accuracy: 0.9220 - val_loss: 0.1405 - val_accuracy: 0.9219\n",
      "Epoch 44/100\n",
      " - 1s - loss: 0.1421 - accuracy: 0.9202 - val_loss: 0.1418 - val_accuracy: 0.9193\n",
      "Epoch 45/100\n",
      " - 1s - loss: 0.1416 - accuracy: 0.9209 - val_loss: 0.1414 - val_accuracy: 0.9219\n",
      "Epoch 46/100\n",
      " - 1s - loss: 0.1407 - accuracy: 0.9223 - val_loss: 0.1392 - val_accuracy: 0.9227\n",
      "Epoch 47/100\n",
      " - 1s - loss: 0.1412 - accuracy: 0.9222 - val_loss: 0.1398 - val_accuracy: 0.9235\n",
      "Epoch 48/100\n",
      " - 1s - loss: 0.1415 - accuracy: 0.9219 - val_loss: 0.1412 - val_accuracy: 0.9229\n",
      "Epoch 49/100\n",
      " - 1s - loss: 0.1403 - accuracy: 0.9225 - val_loss: 0.1398 - val_accuracy: 0.9242\n",
      "Epoch 50/100\n",
      " - 1s - loss: 0.1413 - accuracy: 0.9215 - val_loss: 0.1399 - val_accuracy: 0.9218\n",
      "Epoch 51/100\n",
      " - 1s - loss: 0.1404 - accuracy: 0.9221 - val_loss: 0.1398 - val_accuracy: 0.9218\n",
      "Epoch 52/100\n",
      " - 1s - loss: 0.1405 - accuracy: 0.9225 - val_loss: 0.1401 - val_accuracy: 0.9222\n",
      "Epoch 53/100\n",
      " - 1s - loss: 0.1407 - accuracy: 0.9223 - val_loss: 0.1391 - val_accuracy: 0.9227\n",
      "Epoch 54/100\n",
      " - 1s - loss: 0.1404 - accuracy: 0.9227 - val_loss: 0.1380 - val_accuracy: 0.9247\n",
      "Epoch 55/100\n",
      " - 1s - loss: 0.1413 - accuracy: 0.9227 - val_loss: 0.1393 - val_accuracy: 0.9221\n",
      "Epoch 56/100\n",
      " - 1s - loss: 0.1404 - accuracy: 0.9227 - val_loss: 0.1392 - val_accuracy: 0.9240\n",
      "Epoch 57/100\n",
      " - 1s - loss: 0.1406 - accuracy: 0.9227 - val_loss: 0.1404 - val_accuracy: 0.9219\n",
      "Epoch 58/100\n",
      " - 1s - loss: 0.1412 - accuracy: 0.9220 - val_loss: 0.1409 - val_accuracy: 0.9224\n",
      "Epoch 59/100\n",
      " - 1s - loss: 0.1410 - accuracy: 0.9222 - val_loss: 0.1398 - val_accuracy: 0.9232\n",
      "Epoch 60/100\n",
      " - 1s - loss: 0.1404 - accuracy: 0.9229 - val_loss: 0.1425 - val_accuracy: 0.9216\n",
      "Epoch 61/100\n",
      " - 1s - loss: 0.1418 - accuracy: 0.9220 - val_loss: 0.1403 - val_accuracy: 0.9226\n",
      "Epoch 62/100\n",
      " - 1s - loss: 0.1409 - accuracy: 0.9223 - val_loss: 0.1412 - val_accuracy: 0.9224\n",
      "Epoch 63/100\n",
      " - 1s - loss: 0.1412 - accuracy: 0.9215 - val_loss: 0.1420 - val_accuracy: 0.9228\n",
      "Epoch 64/100\n",
      " - 1s - loss: 0.1399 - accuracy: 0.9224 - val_loss: 0.1411 - val_accuracy: 0.9220\n",
      "Epoch 65/100\n",
      " - 1s - loss: 0.1405 - accuracy: 0.9224 - val_loss: 0.1417 - val_accuracy: 0.9232\n",
      "Epoch 66/100\n",
      " - 1s - loss: 0.1408 - accuracy: 0.9217 - val_loss: 0.1396 - val_accuracy: 0.9233\n",
      "Epoch 67/100\n",
      " - 1s - loss: 0.1399 - accuracy: 0.9230 - val_loss: 0.1383 - val_accuracy: 0.9236\n",
      "Epoch 68/100\n",
      " - 1s - loss: 0.1398 - accuracy: 0.9229 - val_loss: 0.1400 - val_accuracy: 0.9238\n",
      "Epoch 69/100\n",
      " - 1s - loss: 0.1396 - accuracy: 0.9228 - val_loss: 0.1379 - val_accuracy: 0.9233\n",
      "Epoch 70/100\n",
      " - 1s - loss: 0.1397 - accuracy: 0.9230 - val_loss: 0.1396 - val_accuracy: 0.9222\n",
      "Epoch 71/100\n",
      " - 1s - loss: 0.1396 - accuracy: 0.9235 - val_loss: 0.1389 - val_accuracy: 0.9244\n",
      "Epoch 72/100\n",
      " - 1s - loss: 0.1408 - accuracy: 0.9234 - val_loss: 0.1403 - val_accuracy: 0.9244\n",
      "Epoch 73/100\n",
      " - 1s - loss: 0.1401 - accuracy: 0.9236 - val_loss: 0.1374 - val_accuracy: 0.9258\n",
      "Epoch 74/100\n",
      " - 1s - loss: 0.1394 - accuracy: 0.9233 - val_loss: 0.1380 - val_accuracy: 0.9251\n",
      "Epoch 75/100\n",
      " - 1s - loss: 0.1396 - accuracy: 0.9233 - val_loss: 0.1383 - val_accuracy: 0.9243\n",
      "Epoch 76/100\n",
      " - 1s - loss: 0.1403 - accuracy: 0.9229 - val_loss: 0.1415 - val_accuracy: 0.9238\n",
      "Epoch 77/100\n",
      " - 1s - loss: 0.1395 - accuracy: 0.9234 - val_loss: 0.1381 - val_accuracy: 0.9240\n",
      "Epoch 78/100\n",
      " - 1s - loss: 0.1402 - accuracy: 0.9223 - val_loss: 0.1399 - val_accuracy: 0.9229\n",
      "Epoch 79/100\n",
      " - 1s - loss: 0.1396 - accuracy: 0.9233 - val_loss: 0.1411 - val_accuracy: 0.9246\n",
      "Epoch 80/100\n",
      " - 1s - loss: 0.1390 - accuracy: 0.9230 - val_loss: 0.1375 - val_accuracy: 0.9244\n",
      "Epoch 81/100\n",
      " - 1s - loss: 0.1392 - accuracy: 0.9230 - val_loss: 0.1395 - val_accuracy: 0.9243\n",
      "Epoch 82/100\n",
      " - 1s - loss: 0.1400 - accuracy: 0.9231 - val_loss: 0.1406 - val_accuracy: 0.9251\n",
      "Epoch 83/100\n",
      " - 1s - loss: 0.1401 - accuracy: 0.9235 - val_loss: 0.1386 - val_accuracy: 0.9252\n",
      "Epoch 84/100\n",
      " - 1s - loss: 0.1389 - accuracy: 0.9240 - val_loss: 0.1383 - val_accuracy: 0.9245\n",
      "Epoch 85/100\n",
      " - 1s - loss: 0.1395 - accuracy: 0.9239 - val_loss: 0.1379 - val_accuracy: 0.9248\n",
      "Epoch 86/100\n",
      " - 1s - loss: 0.1388 - accuracy: 0.9240 - val_loss: 0.1393 - val_accuracy: 0.9232\n"
     ]
    },
    {
     "name": "stdout",
     "output_type": "stream",
     "text": [
      "Epoch 87/100\n",
      " - 1s - loss: 0.1394 - accuracy: 0.9237 - val_loss: 0.1392 - val_accuracy: 0.9243\n",
      "Epoch 88/100\n",
      " - 1s - loss: 0.1390 - accuracy: 0.9238 - val_loss: 0.1400 - val_accuracy: 0.9247\n",
      "Epoch 89/100\n",
      " - 1s - loss: 0.1392 - accuracy: 0.9235 - val_loss: 0.1368 - val_accuracy: 0.9255\n",
      "Epoch 90/100\n",
      " - 1s - loss: 0.1395 - accuracy: 0.9229 - val_loss: 0.1406 - val_accuracy: 0.9227\n",
      "Epoch 91/100\n",
      " - 1s - loss: 0.1393 - accuracy: 0.9237 - val_loss: 0.1387 - val_accuracy: 0.9231\n",
      "Epoch 92/100\n",
      " - 1s - loss: 0.1390 - accuracy: 0.9234 - val_loss: 0.1430 - val_accuracy: 0.9229\n",
      "Epoch 93/100\n",
      " - 1s - loss: 0.1395 - accuracy: 0.9225 - val_loss: 0.1388 - val_accuracy: 0.9239\n",
      "Epoch 94/100\n",
      " - 1s - loss: 0.1399 - accuracy: 0.9235 - val_loss: 0.1381 - val_accuracy: 0.9238\n",
      "Epoch 95/100\n",
      " - 1s - loss: 0.1392 - accuracy: 0.9235 - val_loss: 0.1390 - val_accuracy: 0.9237\n",
      "Epoch 96/100\n",
      " - 1s - loss: 0.1394 - accuracy: 0.9234 - val_loss: 0.1404 - val_accuracy: 0.9238\n",
      "Epoch 97/100\n",
      " - 1s - loss: 0.1395 - accuracy: 0.9237 - val_loss: 0.1377 - val_accuracy: 0.9248\n",
      "Epoch 98/100\n",
      " - 1s - loss: 0.1395 - accuracy: 0.9234 - val_loss: 0.1384 - val_accuracy: 0.9223\n",
      "Epoch 99/100\n",
      " - 1s - loss: 0.1394 - accuracy: 0.9232 - val_loss: 0.1381 - val_accuracy: 0.9235\n",
      "Epoch 100/100\n",
      " - 1s - loss: 0.1391 - accuracy: 0.9236 - val_loss: 0.1380 - val_accuracy: 0.9243\n"
     ]
    }
   ],
   "source": [
    "# Your best training parameters\n",
    "batch_size = 10000\n",
    "epochs = 100\n",
    "input_shape = Xtrain.shape[1:]\n",
    "n_layers = 2\n",
    "n_nodes = 20\n",
    "act_fun = 'relu'\n",
    "\n",
    "# Build and train model\n",
    "model11 = build_DNN(input_shape, n_layers, n_nodes, optimizer = 'adam', act_fun = act_fun, use_custom_dropout = True)\n",
    "\n",
    "history11 = model11.fit(Xtrain, Ytrain, batch_size = batch_size, epochs = epochs, verbose = 2, validation_data = (Xval, Yval), class_weight = class_weights)"
   ]
  },
  {
   "cell_type": "code",
   "execution_count": 92,
   "metadata": {},
   "outputs": [
    {
     "name": "stdout",
     "output_type": "stream",
     "text": [
      "76413/76413 [==============================] - 0s 1us/step\n",
      "Test accuracy: 0.9232\n"
     ]
    }
   ],
   "source": [
    "# Run this cell a few times to evalute the model on test data, \n",
    "# if you get slightly different test accuracy every time, Dropout during testing is working\n",
    "\n",
    "# Evaluate model on test data\n",
    "score = model11.evaluate(Xtest, Ytest, batch_size = batch_size)\n",
    "                       \n",
    "print('Test accuracy: %.4f' % score[1])"
   ]
  },
  {
   "cell_type": "code",
   "execution_count": 97,
   "metadata": {},
   "outputs": [
    {
     "name": "stdout",
     "output_type": "stream",
     "text": [
      "76413/76413 [==============================] - 0s 1us/step\n",
      "76413/76413 [==============================] - 0s 1us/step\n",
      "76413/76413 [==============================] - 0s 1us/step\n",
      "76413/76413 [==============================] - 0s 1us/step\n",
      "76413/76413 [==============================] - 0s 1us/step\n",
      "76413/76413 [==============================] - 0s 1us/step\n",
      "76413/76413 [==============================] - 0s 1us/step\n",
      "76413/76413 [==============================] - 0s 1us/step\n",
      "76413/76413 [==============================] - 0s 1us/step\n",
      "76413/76413 [==============================] - 0s 1us/step\n",
      "76413/76413 [==============================] - 0s 1us/step\n",
      "76413/76413 [==============================] - 0s 1us/step\n",
      "76413/76413 [==============================] - 0s 1us/step\n",
      "76413/76413 [==============================] - 0s 1us/step\n",
      "76413/76413 [==============================] - 0s 1us/step\n",
      "76413/76413 [==============================] - 0s 1us/step\n",
      "76413/76413 [==============================] - 0s 1us/step\n",
      "76413/76413 [==============================] - 0s 1us/step\n",
      "76413/76413 [==============================] - 0s 1us/step\n",
      "76413/76413 [==============================] - 0s 1us/step\n",
      "76413/76413 [==============================] - 0s 1us/step\n",
      "76413/76413 [==============================] - 0s 1us/step\n",
      "76413/76413 [==============================] - 0s 1us/step\n",
      "76413/76413 [==============================] - 0s 1us/step\n",
      "76413/76413 [==============================] - 0s 1us/step\n",
      "76413/76413 [==============================] - 0s 1us/step\n",
      "76413/76413 [==============================] - 0s 1us/step\n",
      "76413/76413 [==============================] - 0s 1us/step\n",
      "76413/76413 [==============================] - 0s 1us/step\n",
      "76413/76413 [==============================] - 0s 1us/step\n",
      "76413/76413 [==============================] - 0s 1us/step\n",
      "76413/76413 [==============================] - 0s 1us/step\n",
      "76413/76413 [==============================] - 0s 1us/step\n",
      "76413/76413 [==============================] - 0s 1us/step\n",
      "76413/76413 [==============================] - 0s 1us/step\n",
      "76413/76413 [==============================] - 0s 1us/step\n",
      "76413/76413 [==============================] - 0s 1us/step\n",
      "76413/76413 [==============================] - 0s 1us/step\n",
      "76413/76413 [==============================] - 0s 1us/step\n",
      "76413/76413 [==============================] - 0s 1us/step\n",
      "76413/76413 [==============================] - 0s 1us/step\n",
      "76413/76413 [==============================] - 0s 1us/step\n",
      "76413/76413 [==============================] - 0s 1us/step\n",
      "76413/76413 [==============================] - 0s 1us/step\n",
      "76413/76413 [==============================] - 0s 1us/step\n",
      "76413/76413 [==============================] - 0s 1us/step\n",
      "76413/76413 [==============================] - 0s 1us/step\n",
      "76413/76413 [==============================] - 0s 1us/step\n",
      "76413/76413 [==============================] - 0s 1us/step\n",
      "76413/76413 [==============================] - 0s 1us/step\n",
      "76413/76413 [==============================] - 0s 1us/step\n",
      "76413/76413 [==============================] - 0s 1us/step\n",
      "76413/76413 [==============================] - 0s 1us/step\n",
      "76413/76413 [==============================] - 0s 1us/step\n",
      "76413/76413 [==============================] - 0s 1us/step\n",
      "76413/76413 [==============================] - 0s 1us/step\n",
      "76413/76413 [==============================] - 0s 1us/step\n",
      "76413/76413 [==============================] - 0s 1us/step\n",
      "76413/76413 [==============================] - 0s 1us/step\n",
      "76413/76413 [==============================] - 0s 1us/step\n",
      "76413/76413 [==============================] - 0s 1us/step\n",
      "76413/76413 [==============================] - 0s 1us/step\n",
      "76413/76413 [==============================] - 0s 1us/step\n",
      "76413/76413 [==============================] - 0s 1us/step\n",
      "76413/76413 [==============================] - 0s 1us/step\n",
      "76413/76413 [==============================] - 0s 1us/step\n",
      "76413/76413 [==============================] - 0s 1us/step\n",
      "76413/76413 [==============================] - 0s 1us/step\n",
      "76413/76413 [==============================] - 0s 1us/step\n",
      "76413/76413 [==============================] - 0s 1us/step\n",
      "76413/76413 [==============================] - 0s 1us/step\n",
      "76413/76413 [==============================] - 0s 1us/step\n",
      "76413/76413 [==============================] - 0s 1us/step\n",
      "76413/76413 [==============================] - 0s 1us/step\n",
      "76413/76413 [==============================] - 0s 1us/step\n",
      "76413/76413 [==============================] - 0s 1us/step\n",
      "76413/76413 [==============================] - 0s 1us/step\n",
      "76413/76413 [==============================] - 0s 1us/step\n",
      "76413/76413 [==============================] - 0s 1us/step\n",
      "76413/76413 [==============================] - 0s 1us/step\n",
      "76413/76413 [==============================] - 0s 1us/step\n",
      "76413/76413 [==============================] - 0s 1us/step\n",
      "76413/76413 [==============================] - 0s 1us/step\n",
      "76413/76413 [==============================] - 0s 1us/step\n",
      "76413/76413 [==============================] - 0s 1us/step\n",
      "76413/76413 [==============================] - 0s 1us/step\n",
      "76413/76413 [==============================] - 0s 1us/step\n",
      "76413/76413 [==============================] - 0s 1us/step\n",
      "76413/76413 [==============================] - 0s 1us/step\n",
      "76413/76413 [==============================] - 0s 1us/step\n",
      "76413/76413 [==============================] - 0s 1us/step\n",
      "76413/76413 [==============================] - 0s 1us/step\n",
      "76413/76413 [==============================] - 0s 1us/step\n",
      "76413/76413 [==============================] - 0s 1us/step\n",
      "76413/76413 [==============================] - 0s 1us/step\n",
      "76413/76413 [==============================] - 0s 1us/step\n",
      "76413/76413 [==============================] - 0s 1us/step\n",
      "76413/76413 [==============================] - 0s 1us/step\n",
      "76413/76413 [==============================] - 0s 1us/step\n",
      "76413/76413 [==============================] - 0s 1us/step\n",
      "The mean is:  0.9230145424604416\n",
      "The standard deviation is:  0.0004875418457955716\n"
     ]
    }
   ],
   "source": [
    "# Run the testing 100 times, and save the accuracies in an array\n",
    "\n",
    "accuracies = []\n",
    "for i in range(100):\n",
    "    score =  model11.evaluate(Xtest, Ytest, batch_size = batch_size, verbose = 0)\n",
    "    accuracies.append(score[1])\n",
    "\n",
    "print(\"The mean is: \", np.mean(accuracies))\n",
    "print(\"The standard deviation is: \", np.std(accuracies))\n",
    "# Calculate and print mean and std of accuracies\n",
    "\n"
   ]
  },
  {
   "cell_type": "markdown",
   "metadata": {},
   "source": [
    "# Part 22: Cross validation uncertainty\n",
    "\n",
    "Cross validation (CV) is often used to evaluate a model, by training and testing using different subsets of the data it is possible to get the uncertainty as the standard deviation over folds. We here use a help function from scikit-learn to setup the CV, see https://scikit-learn.org/stable/modules/generated/sklearn.model_selection.StratifiedKFold.html . Use 10 folds with shuffling, random state 1234. \n",
    "\n",
    "Note: We here assume that you have found the best hyper parameters, so here the data are only split into training and testing, no validation.\n",
    "\n",
    "---\n",
    "\n",
    "Question 23: What is the mean and the standard deviation of the test accuracy?\n",
    "\n",
    "Question 24: What is the main advantage of dropout compared to CV for estimating test uncertainty?"
   ]
  },
  {
   "cell_type": "code",
   "execution_count": 88,
   "metadata": {},
   "outputs": [
    {
     "name": "stdout",
     "output_type": "stream",
     "text": [
      "Epoch 1/20\n",
      " - 1s - loss: 0.4932 - accuracy: 0.8408\n",
      "Epoch 2/20\n",
      " - 1s - loss: 0.4589 - accuracy: 0.8408\n",
      "Epoch 3/20\n",
      " - 1s - loss: 0.4490 - accuracy: 0.8408\n",
      "Epoch 4/20\n",
      " - 1s - loss: 0.4436 - accuracy: 0.8408\n",
      "Epoch 5/20\n",
      " - 1s - loss: 0.4391 - accuracy: 0.8408\n",
      "Epoch 6/20\n",
      " - 1s - loss: 0.4349 - accuracy: 0.8408\n",
      "Epoch 7/20\n",
      " - 1s - loss: 0.4307 - accuracy: 0.8408\n",
      "Epoch 8/20\n",
      " - 1s - loss: 0.4266 - accuracy: 0.8408\n",
      "Epoch 9/20\n",
      " - 1s - loss: 0.4224 - accuracy: 0.8408\n",
      "Epoch 10/20\n",
      " - 1s - loss: 0.4181 - accuracy: 0.8408\n",
      "Epoch 11/20\n",
      " - 1s - loss: 0.4137 - accuracy: 0.8408\n",
      "Epoch 12/20\n",
      " - 1s - loss: 0.4092 - accuracy: 0.8408\n",
      "Epoch 13/20\n",
      " - 1s - loss: 0.4045 - accuracy: 0.8408\n",
      "Epoch 14/20\n",
      " - 1s - loss: 0.3997 - accuracy: 0.8408\n",
      "Epoch 15/20\n",
      " - 1s - loss: 0.3947 - accuracy: 0.8408\n",
      "Epoch 16/20\n",
      " - 1s - loss: 0.3895 - accuracy: 0.8408\n",
      "Epoch 17/20\n",
      " - 1s - loss: 0.3840 - accuracy: 0.8408\n",
      "Epoch 18/20\n",
      " - 1s - loss: 0.3784 - accuracy: 0.8408\n",
      "Epoch 19/20\n",
      " - 1s - loss: 0.3726 - accuracy: 0.8408\n",
      "Epoch 20/20\n",
      " - 1s - loss: 0.3666 - accuracy: 0.8408\n",
      "76415/76415 [==============================] - 0s 1us/step\n",
      "Epoch 1/20\n",
      " - 1s - loss: 0.5545 - accuracy: 0.7909\n",
      "Epoch 2/20\n",
      " - 1s - loss: 0.4483 - accuracy: 0.8408\n",
      "Epoch 3/20\n",
      " - 1s - loss: 0.4323 - accuracy: 0.8408\n",
      "Epoch 4/20\n",
      " - 1s - loss: 0.4268 - accuracy: 0.8408\n",
      "Epoch 5/20\n",
      " - 1s - loss: 0.4232 - accuracy: 0.8408\n",
      "Epoch 6/20\n",
      " - 1s - loss: 0.4198 - accuracy: 0.8408\n",
      "Epoch 7/20\n",
      " - 1s - loss: 0.4164 - accuracy: 0.8408\n",
      "Epoch 8/20\n",
      " - 1s - loss: 0.4130 - accuracy: 0.8408\n",
      "Epoch 9/20\n",
      " - 1s - loss: 0.4093 - accuracy: 0.8408\n",
      "Epoch 10/20\n",
      " - 1s - loss: 0.4056 - accuracy: 0.8408\n",
      "Epoch 11/20\n",
      " - 1s - loss: 0.4016 - accuracy: 0.8408\n",
      "Epoch 12/20\n",
      " - 1s - loss: 0.3975 - accuracy: 0.8408\n",
      "Epoch 13/20\n",
      " - 1s - loss: 0.3932 - accuracy: 0.8408\n",
      "Epoch 14/20\n",
      " - 1s - loss: 0.3887 - accuracy: 0.8408\n",
      "Epoch 15/20\n",
      " - 1s - loss: 0.3839 - accuracy: 0.8408\n",
      "Epoch 16/20\n",
      " - 1s - loss: 0.3790 - accuracy: 0.8408\n",
      "Epoch 17/20\n",
      " - 1s - loss: 0.3738 - accuracy: 0.8408\n",
      "Epoch 18/20\n",
      " - 1s - loss: 0.3684 - accuracy: 0.8408\n",
      "Epoch 19/20\n",
      " - 1s - loss: 0.3628 - accuracy: 0.8408\n",
      "Epoch 20/20\n",
      " - 1s - loss: 0.3570 - accuracy: 0.8408\n",
      "76414/76414 [==============================] - 0s 1us/step\n",
      "Epoch 1/20\n",
      " - 1s - loss: 0.8146 - accuracy: 0.4482\n",
      "Epoch 2/20\n",
      " - 1s - loss: 0.4785 - accuracy: 0.8408\n",
      "Epoch 3/20\n",
      " - 1s - loss: 0.4354 - accuracy: 0.8408\n",
      "Epoch 4/20\n",
      " - 1s - loss: 0.4239 - accuracy: 0.8408\n",
      "Epoch 5/20\n",
      " - 1s - loss: 0.4177 - accuracy: 0.8408\n",
      "Epoch 6/20\n",
      " - 1s - loss: 0.4126 - accuracy: 0.8408\n",
      "Epoch 7/20\n",
      " - 1s - loss: 0.4078 - accuracy: 0.8408\n",
      "Epoch 8/20\n",
      " - 1s - loss: 0.4029 - accuracy: 0.8408\n",
      "Epoch 9/20\n",
      " - 1s - loss: 0.3980 - accuracy: 0.8408\n",
      "Epoch 10/20\n",
      " - 1s - loss: 0.3929 - accuracy: 0.8408\n",
      "Epoch 11/20\n",
      " - 1s - loss: 0.3878 - accuracy: 0.8408\n",
      "Epoch 12/20\n",
      " - 1s - loss: 0.3825 - accuracy: 0.8408\n",
      "Epoch 13/20\n",
      " - 1s - loss: 0.3771 - accuracy: 0.8408\n",
      "Epoch 14/20\n",
      " - 1s - loss: 0.3715 - accuracy: 0.8408\n",
      "Epoch 15/20\n",
      " - 1s - loss: 0.3658 - accuracy: 0.8408\n",
      "Epoch 16/20\n",
      " - 1s - loss: 0.3600 - accuracy: 0.8408\n",
      "Epoch 17/20\n",
      " - 1s - loss: 0.3540 - accuracy: 0.8408\n",
      "Epoch 18/20\n",
      " - 1s - loss: 0.3480 - accuracy: 0.8408\n",
      "Epoch 19/20\n",
      " - 1s - loss: 0.3418 - accuracy: 0.8408\n",
      "Epoch 20/20\n",
      " - 1s - loss: 0.3355 - accuracy: 0.8408\n",
      "76414/76414 [==============================] - 0s 1us/step\n",
      "Epoch 1/20\n",
      " - 1s - loss: 0.7442 - accuracy: 0.5121\n",
      "Epoch 2/20\n",
      " - 1s - loss: 0.4745 - accuracy: 0.8408\n",
      "Epoch 3/20\n",
      " - 1s - loss: 0.4390 - accuracy: 0.8408\n",
      "Epoch 4/20\n",
      " - 1s - loss: 0.4289 - accuracy: 0.8408\n",
      "Epoch 5/20\n",
      " - 1s - loss: 0.4231 - accuracy: 0.8408\n",
      "Epoch 6/20\n",
      " - 1s - loss: 0.4181 - accuracy: 0.8408\n",
      "Epoch 7/20\n",
      " - 1s - loss: 0.4134 - accuracy: 0.8408\n",
      "Epoch 8/20\n",
      " - 1s - loss: 0.4086 - accuracy: 0.8408\n",
      "Epoch 9/20\n",
      " - 1s - loss: 0.4036 - accuracy: 0.8408\n",
      "Epoch 10/20\n",
      " - 1s - loss: 0.3985 - accuracy: 0.8408\n",
      "Epoch 11/20\n",
      " - 1s - loss: 0.3932 - accuracy: 0.8408\n",
      "Epoch 12/20\n",
      " - 1s - loss: 0.3876 - accuracy: 0.8408\n",
      "Epoch 13/20\n",
      " - 1s - loss: 0.3819 - accuracy: 0.8408\n",
      "Epoch 14/20\n",
      " - 1s - loss: 0.3759 - accuracy: 0.8408\n",
      "Epoch 15/20\n",
      " - 1s - loss: 0.3696 - accuracy: 0.8408\n",
      "Epoch 16/20\n",
      " - 1s - loss: 0.3632 - accuracy: 0.8408\n",
      "Epoch 17/20\n",
      " - 1s - loss: 0.3565 - accuracy: 0.8408\n",
      "Epoch 18/20\n",
      " - 1s - loss: 0.3496 - accuracy: 0.8408\n",
      "Epoch 19/20\n",
      " - 1s - loss: 0.3425 - accuracy: 0.8408\n",
      "Epoch 20/20\n",
      " - 1s - loss: 0.3353 - accuracy: 0.8408\n",
      "76414/76414 [==============================] - 0s 1us/step\n",
      "Epoch 1/20\n",
      " - 1s - loss: 0.5418 - accuracy: 0.8407\n",
      "Epoch 2/20\n",
      " - 1s - loss: 0.4540 - accuracy: 0.8408\n",
      "Epoch 3/20\n",
      " - 1s - loss: 0.4355 - accuracy: 0.8408\n",
      "Epoch 4/20\n",
      " - 1s - loss: 0.4275 - accuracy: 0.8408\n",
      "Epoch 5/20\n",
      " - 1s - loss: 0.4217 - accuracy: 0.8408\n",
      "Epoch 6/20\n",
      " - 1s - loss: 0.4163 - accuracy: 0.8408\n",
      "Epoch 7/20\n",
      " - 1s - loss: 0.4110 - accuracy: 0.8408\n",
      "Epoch 8/20\n",
      " - 1s - loss: 0.4056 - accuracy: 0.8408\n",
      "Epoch 9/20\n",
      " - 1s - loss: 0.4001 - accuracy: 0.8408\n",
      "Epoch 10/20\n",
      " - 1s - loss: 0.3944 - accuracy: 0.8408\n",
      "Epoch 11/20\n",
      " - 1s - loss: 0.3887 - accuracy: 0.8408\n",
      "Epoch 12/20\n",
      " - 1s - loss: 0.3827 - accuracy: 0.8408\n",
      "Epoch 13/20\n",
      " - 1s - loss: 0.3767 - accuracy: 0.8408\n",
      "Epoch 14/20\n",
      " - 1s - loss: 0.3704 - accuracy: 0.8408\n",
      "Epoch 15/20\n",
      " - 1s - loss: 0.3640 - accuracy: 0.8408\n",
      "Epoch 16/20\n",
      " - 1s - loss: 0.3574 - accuracy: 0.8408\n",
      "Epoch 17/20\n",
      " - 1s - loss: 0.3507 - accuracy: 0.8408\n",
      "Epoch 18/20\n",
      " - 1s - loss: 0.3439 - accuracy: 0.8408\n",
      "Epoch 19/20\n",
      " - 1s - loss: 0.3369 - accuracy: 0.8408\n",
      "Epoch 20/20\n",
      " - 1s - loss: 0.3300 - accuracy: 0.8408\n",
      "76414/76414 [==============================] - 0s 1us/step\n",
      "Epoch 1/20\n",
      " - 1s - loss: 0.6455 - accuracy: 0.6321\n",
      "Epoch 2/20\n",
      " - 1s - loss: 0.4679 - accuracy: 0.8408\n",
      "Epoch 3/20\n",
      " - 1s - loss: 0.4429 - accuracy: 0.8408\n",
      "Epoch 4/20\n",
      " - 1s - loss: 0.4343 - accuracy: 0.8408\n",
      "Epoch 5/20\n",
      " - 1s - loss: 0.4284 - accuracy: 0.8408\n",
      "Epoch 6/20\n",
      " - 1s - loss: 0.4230 - accuracy: 0.8408\n",
      "Epoch 7/20\n",
      " - 1s - loss: 0.4176 - accuracy: 0.8408\n",
      "Epoch 8/20\n",
      " - 1s - loss: 0.4121 - accuracy: 0.8408\n",
      "Epoch 9/20\n",
      " - 1s - loss: 0.4064 - accuracy: 0.8408\n",
      "Epoch 10/20\n",
      " - 1s - loss: 0.4004 - accuracy: 0.8408\n",
      "Epoch 11/20\n",
      " - 1s - loss: 0.3942 - accuracy: 0.8408\n",
      "Epoch 12/20\n",
      " - 1s - loss: 0.3877 - accuracy: 0.8408\n",
      "Epoch 13/20\n",
      " - 1s - loss: 0.3809 - accuracy: 0.8408\n",
      "Epoch 14/20\n",
      " - 1s - loss: 0.3738 - accuracy: 0.8408\n",
      "Epoch 15/20\n",
      " - 1s - loss: 0.3665 - accuracy: 0.8408\n",
      "Epoch 16/20\n",
      " - 1s - loss: 0.3590 - accuracy: 0.8408\n",
      "Epoch 17/20\n",
      " - 1s - loss: 0.3513 - accuracy: 0.8408\n",
      "Epoch 18/20\n",
      " - 1s - loss: 0.3435 - accuracy: 0.8408\n",
      "Epoch 19/20\n",
      " - 1s - loss: 0.3355 - accuracy: 0.8408\n",
      "Epoch 20/20\n",
      " - 1s - loss: 0.3274 - accuracy: 0.8408\n",
      "76414/76414 [==============================] - 0s 1us/step\n",
      "Epoch 1/20\n",
      " - 1s - loss: 0.5087 - accuracy: 0.8408\n",
      "Epoch 2/20\n",
      " - 1s - loss: 0.4427 - accuracy: 0.8408\n",
      "Epoch 3/20\n",
      " - 1s - loss: 0.4302 - accuracy: 0.8408\n",
      "Epoch 4/20\n",
      " - 1s - loss: 0.4249 - accuracy: 0.8408\n",
      "Epoch 5/20\n",
      " - 1s - loss: 0.4208 - accuracy: 0.8408\n",
      "Epoch 6/20\n",
      " - 1s - loss: 0.4169 - accuracy: 0.8408\n",
      "Epoch 7/20\n",
      " - 1s - loss: 0.4130 - accuracy: 0.8408\n",
      "Epoch 8/20\n",
      " - 1s - loss: 0.4089 - accuracy: 0.8408\n",
      "Epoch 9/20\n",
      " - 1s - loss: 0.4046 - accuracy: 0.8408\n",
      "Epoch 10/20\n",
      " - 1s - loss: 0.4002 - accuracy: 0.8408\n",
      "Epoch 11/20\n",
      " - 1s - loss: 0.3955 - accuracy: 0.8408\n",
      "Epoch 12/20\n",
      " - 1s - loss: 0.3906 - accuracy: 0.8408\n",
      "Epoch 13/20\n",
      " - 1s - loss: 0.3854 - accuracy: 0.8408\n",
      "Epoch 14/20\n",
      " - 1s - loss: 0.3800 - accuracy: 0.8408\n",
      "Epoch 15/20\n",
      " - 1s - loss: 0.3744 - accuracy: 0.8408\n",
      "Epoch 16/20\n",
      " - 1s - loss: 0.3684 - accuracy: 0.8408\n",
      "Epoch 17/20\n",
      " - 1s - loss: 0.3623 - accuracy: 0.8408\n",
      "Epoch 18/20\n",
      " - 1s - loss: 0.3559 - accuracy: 0.8408\n",
      "Epoch 19/20\n",
      " - 1s - loss: 0.3492 - accuracy: 0.8408\n",
      "Epoch 20/20\n",
      " - 1s - loss: 0.3424 - accuracy: 0.8408\n",
      "76413/76413 [==============================] - 0s 1us/step\n",
      "Epoch 1/20\n",
      " - 1s - loss: 0.5126 - accuracy: 0.8408\n",
      "Epoch 2/20\n",
      " - 1s - loss: 0.4394 - accuracy: 0.8408\n",
      "Epoch 3/20\n",
      " - 1s - loss: 0.4216 - accuracy: 0.8408\n",
      "Epoch 4/20\n",
      " - 1s - loss: 0.4127 - accuracy: 0.8408\n",
      "Epoch 5/20\n",
      " - 1s - loss: 0.4056 - accuracy: 0.8408\n",
      "Epoch 6/20\n",
      " - 1s - loss: 0.3989 - accuracy: 0.8408\n",
      "Epoch 7/20\n",
      " - 1s - loss: 0.3922 - accuracy: 0.8408\n",
      "Epoch 8/20\n",
      " - 1s - loss: 0.3855 - accuracy: 0.8408\n",
      "Epoch 9/20\n",
      " - 1s - loss: 0.3786 - accuracy: 0.8408\n",
      "Epoch 10/20\n",
      " - 1s - loss: 0.3716 - accuracy: 0.8408\n",
      "Epoch 11/20\n",
      " - 1s - loss: 0.3645 - accuracy: 0.8408\n"
     ]
    },
    {
     "name": "stdout",
     "output_type": "stream",
     "text": [
      "Epoch 12/20\n",
      " - 1s - loss: 0.3572 - accuracy: 0.8408\n",
      "Epoch 13/20\n",
      " - 1s - loss: 0.3499 - accuracy: 0.8408\n",
      "Epoch 14/20\n",
      " - 1s - loss: 0.3425 - accuracy: 0.8408\n",
      "Epoch 15/20\n",
      " - 1s - loss: 0.3351 - accuracy: 0.8408\n",
      "Epoch 16/20\n",
      " - 1s - loss: 0.3276 - accuracy: 0.8408\n",
      "Epoch 17/20\n",
      " - 1s - loss: 0.3202 - accuracy: 0.8408\n",
      "Epoch 18/20\n",
      " - 1s - loss: 0.3129 - accuracy: 0.8408\n",
      "Epoch 19/20\n",
      " - 1s - loss: 0.3057 - accuracy: 0.8408\n",
      "Epoch 20/20\n",
      " - 1s - loss: 0.2985 - accuracy: 0.8408\n",
      "76413/76413 [==============================] - 0s 1us/step\n",
      "Epoch 1/20\n",
      " - 1s - loss: 0.4635 - accuracy: 0.8408\n",
      "Epoch 2/20\n",
      " - 1s - loss: 0.4361 - accuracy: 0.8408\n",
      "Epoch 3/20\n",
      " - 1s - loss: 0.4258 - accuracy: 0.8408\n",
      "Epoch 4/20\n",
      " - 1s - loss: 0.4189 - accuracy: 0.8408\n",
      "Epoch 5/20\n",
      " - 1s - loss: 0.4128 - accuracy: 0.8408\n",
      "Epoch 6/20\n",
      " - 1s - loss: 0.4068 - accuracy: 0.8408\n",
      "Epoch 7/20\n",
      " - 1s - loss: 0.4008 - accuracy: 0.8408\n",
      "Epoch 8/20\n",
      " - 1s - loss: 0.3947 - accuracy: 0.8408\n",
      "Epoch 9/20\n",
      " - 1s - loss: 0.3884 - accuracy: 0.8408\n",
      "Epoch 10/20\n",
      " - 1s - loss: 0.3819 - accuracy: 0.8408\n",
      "Epoch 11/20\n",
      " - 1s - loss: 0.3753 - accuracy: 0.8408\n",
      "Epoch 12/20\n",
      " - 1s - loss: 0.3685 - accuracy: 0.8408\n",
      "Epoch 13/20\n",
      " - 1s - loss: 0.3615 - accuracy: 0.8408\n",
      "Epoch 14/20\n",
      " - 1s - loss: 0.3545 - accuracy: 0.8408\n",
      "Epoch 15/20\n",
      " - 1s - loss: 0.3473 - accuracy: 0.8408\n",
      "Epoch 16/20\n",
      " - 1s - loss: 0.3400 - accuracy: 0.8408\n",
      "Epoch 17/20\n",
      " - 1s - loss: 0.3327 - accuracy: 0.8408\n",
      "Epoch 18/20\n",
      " - 1s - loss: 0.3255 - accuracy: 0.8408\n",
      "Epoch 19/20\n",
      " - 1s - loss: 0.3182 - accuracy: 0.8408\n",
      "Epoch 20/20\n",
      " - 1s - loss: 0.3110 - accuracy: 0.8408\n",
      "76413/76413 [==============================] - 0s 1us/step\n",
      "Epoch 1/20\n",
      " - 1s - loss: 0.6679 - accuracy: 0.5990\n",
      "Epoch 2/20\n",
      " - 1s - loss: 0.4725 - accuracy: 0.8408\n",
      "Epoch 3/20\n",
      " - 1s - loss: 0.4442 - accuracy: 0.8408\n",
      "Epoch 4/20\n",
      " - 1s - loss: 0.4365 - accuracy: 0.8408\n",
      "Epoch 5/20\n",
      " - 1s - loss: 0.4325 - accuracy: 0.8408\n",
      "Epoch 6/20\n",
      " - 1s - loss: 0.4293 - accuracy: 0.8408\n",
      "Epoch 7/20\n",
      " - 1s - loss: 0.4264 - accuracy: 0.8408\n",
      "Epoch 8/20\n",
      " - 1s - loss: 0.4234 - accuracy: 0.8408\n",
      "Epoch 9/20\n",
      " - 1s - loss: 0.4205 - accuracy: 0.8408\n",
      "Epoch 10/20\n",
      " - 1s - loss: 0.4174 - accuracy: 0.8408\n",
      "Epoch 11/20\n",
      " - 1s - loss: 0.4143 - accuracy: 0.8408\n",
      "Epoch 12/20\n",
      " - 1s - loss: 0.4111 - accuracy: 0.8408\n",
      "Epoch 13/20\n",
      " - 1s - loss: 0.4077 - accuracy: 0.8408\n",
      "Epoch 14/20\n",
      " - 1s - loss: 0.4043 - accuracy: 0.8408\n",
      "Epoch 15/20\n",
      " - 1s - loss: 0.4006 - accuracy: 0.8408\n",
      "Epoch 16/20\n",
      " - 1s - loss: 0.3969 - accuracy: 0.8408\n",
      "Epoch 17/20\n",
      " - 1s - loss: 0.3929 - accuracy: 0.8408\n",
      "Epoch 18/20\n",
      " - 1s - loss: 0.3888 - accuracy: 0.8408\n",
      "Epoch 19/20\n",
      " - 1s - loss: 0.3845 - accuracy: 0.8408\n",
      "Epoch 20/20\n",
      " - 1s - loss: 0.3799 - accuracy: 0.8408\n",
      "76413/76413 [==============================] - 0s 1us/step\n",
      "The mean is:  0.840838760137558\n",
      "The standard deviation is:  3.185504425530426e-06\n"
     ]
    }
   ],
   "source": [
    "from sklearn.model_selection import StratifiedKFold\n",
    "\n",
    "batch_size = 10000\n",
    "epochs = 20\n",
    "input_shape = Xtrain.shape[1:]\n",
    "n_layers = 2\n",
    "n_nodes = 20\n",
    "\n",
    "# Define 10-fold cross validation\n",
    "skf = StratifiedKFold(n_splits=10, shuffle = True, random_state =1234)\n",
    "test_accuracy = []\n",
    "\n",
    "for train_index, test_index in skf.split(X_shuffle, Y_shuffle):\n",
    "    Xtrain, Xtest = X_shuffle[train_index], X_shuffle[test_index]\n",
    "    Ytrain, Ytest = Y_shuffle[train_index], Y_shuffle[test_index]\n",
    "    class_weights = class_weight.compute_class_weight('balanced', np.unique(Ytrain),Ytrain)\n",
    "    \n",
    "    model22 = build_DNN(input_shape, n_layers, n_nodes)\n",
    "    history22 = model22.fit(Xtrain, Ytrain, batch_size = batch_size, epochs = epochs, verbose = 2, class_weight = class_weights)\n",
    "    score = model22.evaluate(Xtest, Ytest, batch_size = batch_size)\n",
    "    test_accuracy.append(score[1])\n",
    "    \n",
    "print(\"The mean is: \", np.mean(test_accuracy))\n",
    "print(\"The standard deviation is: \", np.std(test_accuracy))\n",
    "# Loop over cross validation folds\n",
    "    \n",
    "    # Calculate class weights for current split\n",
    "    \n",
    "    # Rebuild the DNN model, to not continue training on the previously trained model\n",
    "    \n",
    "    # Fit the model with training set and class weights for this fold\n",
    "    \n",
    "    # Evaluate the model using the test set for this fold\n",
    "    \n",
    "    # Save the test accuracy in an array\n",
    "\n",
    "    \n",
    "# Calculate and print mean and std of accuracies\n",
    "\n",
    "#Answer 23: The mean is: 0.840838760137558\n",
    "#The standard deviation is:  3.185504425530426e-06\n",
    "\n",
    "#Answer 24: CV takes a very long time because you have to run the model 10 times (in this case), so Dropout is a lot quicker.\n",
    "# "
   ]
  },
  {
   "cell_type": "markdown",
   "metadata": {},
   "source": [
    "# Part 23: DNN regression\n",
    "\n",
    "A similar DNN can be used for regression, instead of classification.\n",
    "\n",
    "Question 25: How would you change the DNN in order to use it for regression instead?"
   ]
  },
  {
   "cell_type": "code",
   "execution_count": null,
   "metadata": {},
   "outputs": [],
   "source": [
    "# We have to change the loss function to something like MSE."
   ]
  },
  {
   "cell_type": "markdown",
   "metadata": {},
   "source": [
    "## Report\n",
    "\n",
    "Send in this jupyter notebook, with answers to all questions."
   ]
  }
 ],
 "metadata": {
  "kernelspec": {
   "display_name": "Python 3",
   "language": "python",
   "name": "python3"
  },
  "language_info": {
   "codemirror_mode": {
    "name": "ipython",
    "version": 3
   },
   "file_extension": ".py",
   "mimetype": "text/x-python",
   "name": "python",
   "nbconvert_exporter": "python",
   "pygments_lexer": "ipython3",
   "version": "3.7.4"
  }
 },
 "nbformat": 4,
 "nbformat_minor": 4
}
